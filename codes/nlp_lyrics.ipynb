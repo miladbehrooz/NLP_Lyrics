{
 "cells": [
  {
   "cell_type": "markdown",
   "id": "1ee623c7-b519-4d4a-ab82-d8ec4212f5ca",
   "metadata": {},
   "source": [
    "### Load Libraries"
   ]
  },
  {
   "cell_type": "code",
   "execution_count": 184,
   "id": "5ca7a8e0-1e7a-4ca8-ad32-548c5cb021d1",
   "metadata": {},
   "outputs": [],
   "source": [
    "import pandas as pd\n",
    "import numpy as np\n",
    "import string\n",
    "import os\n",
    "\n",
    "from sklearn.feature_extraction.text import CountVectorizer, TfidfTransformer\n",
    "from sklearn.model_selection import train_test_split, cross_val_score, GridSearchCV\n",
    "from sklearn.pipeline import Pipeline\n",
    "from sklearn.linear_model import LogisticRegression\n",
    "from sklearn import metrics\n"
   ]
  },
  {
   "cell_type": "markdown",
   "id": "3c81d6b1-3a56-46e4-ad96-1e52c3b8021e",
   "metadata": {},
   "source": [
    "### Define Global Functions"
   ]
  },
  {
   "cell_type": "code",
   "execution_count": 190,
   "id": "0dcef092-8a2f-4354-96ee-2a50ad625b79",
   "metadata": {},
   "outputs": [],
   "source": [
    "def print_results(cv_h, show_all = False):\n",
    "    \"\"\"Print out results of the hyperparameter optimization\"\"\"\n",
    "    print('Best:')\n",
    "    print(round(cv_h.best_score_, 3), ' for ', cv_h.best_params_)\n",
    "    if show_all:\n",
    "        print('All:')\n",
    "        for mean, params in zip(cv_h.cv_results_['mean_test_score'], \n",
    "                                cv_h.cv_results_['params']):\n",
    "                print('{}  for {}'.format(round(mean, 3), params))"
   ]
  },
  {
   "cell_type": "code",
   "execution_count": 192,
   "id": "108f06a5-bcf5-41ea-9415-28a6622f7368",
   "metadata": {},
   "outputs": [],
   "source": [
    "def make_song_df(path):\n",
    "    \"\"\" Build a data frame from all the text files which consist in path \"\"\"\n",
    "    corpus = []\n",
    "    artists_name = []\n",
    "    songs_name = []\n",
    "    folders = [name for name in os.listdir(path) if ( name[0] != '.' )]\n",
    "    for folder in folders:\n",
    "        files = os.listdir(f'{path}/{folder}')\n",
    "        print(f'{len(files)} unique lyrics from {folder} have been added to datafram.')\n",
    "        for file in files:\n",
    "            if file[0] != '.':\n",
    "                continue\n",
    "            if os.path.isfile(f'{path}/{folder}/{file}'):\n",
    "\n",
    "                song_name = os.path.splitext(file)[0]\n",
    "                song_name = song_name.replace('_', ' ')\n",
    "                songs_name.append(song_name)\n",
    "                artists_name.append(folder)\n",
    "                lyric = open(file=f'{path}/{folder}/{file}',mode='r').read()\n",
    "                corpus.append(lyric)\n",
    "            else:\n",
    "                continue\n",
    "    dict = {'artist_name': artists_name, 'song_name': songs_name, 'lyric': corpus} \n",
    "    df = pd.DataFrame(dict)\n",
    "    return df"
   ]
  },
  {
   "cell_type": "code",
   "execution_count": 193,
   "id": "47731d16-7097-4d29-88e8-1a997cd3c04c",
   "metadata": {},
   "outputs": [],
   "source": [
    "def print_evaluation_metrics(model,X_train,y_train,X_test,y_test):\n",
    "    \n",
    "    \"\"\" Print out some evaluation metrics \"\"\"\n",
    "    \n",
    "    print(f'train score: {round(model.score(X_train,y_train),2)}')\n",
    "    print(f'test score: {round(model.score(X_test,y_test),2)}')"
   ]
  },
  {
   "cell_type": "code",
   "execution_count": 194,
   "id": "7301b8dc-bf05-435f-9278-689c7fe947c8",
   "metadata": {},
   "outputs": [],
   "source": [
    "# save evaluation metrics using cross validation\n",
    "def save_evaluation_metrics(classifier,classifier_name, summary, X, y):\n",
    "    \n",
    "    AUC = round(cross_val_score(classifier, X, y, cv = 2, scoring='roc_auc_ovr_weighted').mean(),2)\n",
    "    accuracy = round(cross_val_score(classifier, X, y, cv = 2, scoring='accuracy').mean(),2)\n",
    "    precision = round(cross_val_score(classifier, X, y, cv = 2, scoring='precision_weighted').mean(),2)\n",
    "    recall = round(cross_val_score(classifier, X, y, cv = 2, scoring='recall_weighted').mean(),2)\n",
    "    f1 = round(cross_val_score(classifier, X, y, cv = 2, scoring='f1_weighted').mean(),2)\n",
    "    \n",
    "    summary['Classifier Name'].append(classifier_name)\n",
    "    summary['AUC'].append(AUC)\n",
    "    summary['Accuracy'].append(accuracy)\n",
    "    summary['Precision'].append(precision)\n",
    "    summary['Recall'].append(recall)\n",
    "    summary['F1'].append(f1)\n",
    "    \n",
    "    \n",
    "    return summary"
   ]
  },
  {
   "cell_type": "markdown",
   "id": "200a759e-ab33-4b63-b169-956d771f4514",
   "metadata": {},
   "source": [
    "### Load Data"
   ]
  },
  {
   "cell_type": "code",
   "execution_count": 31,
   "id": "e7560106-451b-4cc5-b217-2c92452d8ef9",
   "metadata": {},
   "outputs": [
    {
     "name": "stdout",
     "output_type": "stream",
     "text": [
      "155 unique lyrics from metallica have been added to datafram.\n",
      "181 unique lyrics from coldplay have been added to datafram.\n",
      "158 unique lyrics from rihanna have been added to datafram.\n",
      "64 unique lyrics from billieeilish have been added to datafram.\n"
     ]
    },
    {
     "data": {
      "text/html": [
       "<div>\n",
       "<style scoped>\n",
       "    .dataframe tbody tr th:only-of-type {\n",
       "        vertical-align: middle;\n",
       "    }\n",
       "\n",
       "    .dataframe tbody tr th {\n",
       "        vertical-align: top;\n",
       "    }\n",
       "\n",
       "    .dataframe thead th {\n",
       "        text-align: right;\n",
       "    }\n",
       "</style>\n",
       "<table border=\"1\" class=\"dataframe\">\n",
       "  <thead>\n",
       "    <tr style=\"text-align: right;\">\n",
       "      <th></th>\n",
       "      <th>artist_name</th>\n",
       "      <th>song_name</th>\n",
       "      <th>lyric</th>\n",
       "    </tr>\n",
       "  </thead>\n",
       "  <tbody>\n",
       "    <tr>\n",
       "      <th>0</th>\n",
       "      <td>billieeilish</td>\n",
       "      <td>.txt</td>\n",
       "      <td>\\n\\nMy Invisalign has finally...\\nI have taken...</td>\n",
       "    </tr>\n",
       "  </tbody>\n",
       "</table>\n",
       "</div>"
      ],
      "text/plain": [
       "    artist_name song_name                                              lyric\n",
       "0  billieeilish      .txt  \\n\\nMy Invisalign has finally...\\nI have taken..."
      ]
     },
     "execution_count": 31,
     "metadata": {},
     "output_type": "execute_result"
    }
   ],
   "source": [
    "# build a dataframe from lyrics files\n",
    "df = make_song_df(path='../data/')\n",
    "df"
   ]
  },
  {
   "cell_type": "markdown",
   "id": "862589d3-2502-4918-ab07-264254e4bcf5",
   "metadata": {},
   "source": [
    "### Exploratory Data Analysis"
   ]
  },
  {
   "cell_type": "code",
   "execution_count": null,
   "id": "178ffaf5-d3da-4f3e-b04c-9d76f8feaf81",
   "metadata": {},
   "outputs": [],
   "source": []
  },
  {
   "cell_type": "markdown",
   "id": "0eedaaf3-1fce-4b6a-ad84-6235e11b708e",
   "metadata": {},
   "source": [
    "### Logistic Regression"
   ]
  },
  {
   "cell_type": "code",
   "execution_count": 4,
   "id": "051ecea2-9e0c-4c89-b5cc-d280dfd7c7a9",
   "metadata": {},
   "outputs": [],
   "source": [
    "# define features and target\n",
    "X = df['lyric']\n",
    "y = df['artist_name']"
   ]
  },
  {
   "cell_type": "code",
   "execution_count": 5,
   "id": "fc32022f-5b92-499d-b53b-a188d987d0bb",
   "metadata": {},
   "outputs": [
    {
     "data": {
      "text/plain": [
       "((446,), (112,))"
      ]
     },
     "execution_count": 5,
     "metadata": {},
     "output_type": "execute_result"
    }
   ],
   "source": [
    "# train-test split\n",
    "X_train, X_test, y_train, y_test = train_test_split(X, y, test_size=0.2, random_state=0)\n",
    "X_train.shape, X_test.shape"
   ]
  },
  {
   "cell_type": "markdown",
   "id": "3a2c075a-ff00-499d-b0df-51204da1ea10",
   "metadata": {},
   "source": [
    "#### Define Preprocessing Pipeline"
   ]
  },
  {
   "cell_type": "code",
   "execution_count": 6,
   "id": "e643e0b7-d66f-4f52-af5e-1d68f5bf7242",
   "metadata": {},
   "outputs": [],
   "source": [
    "# define tekonizer function\n",
    "def my_tokenizer(text):\n",
    "    table = str.maketrans('','',string.punctuation)\n",
    "    # split the text into separate words\n",
    "    text = text.split()\n",
    "    #remove punctuations\n",
    "    text = [word.translate(table) for word in text]\n",
    "    #remove words which are less than two character e.g. 's and a\n",
    "    text = [word for word in text if(len(word)>2)]\n",
    "    #remove words which include of numbers\n",
    "    text = [word for word in text if(word.isalpha())]\n",
    "    return text"
   ]
  },
  {
   "cell_type": "code",
   "execution_count": 131,
   "id": "c8f7b02a-e820-457b-8703-6a6995f254b9",
   "metadata": {},
   "outputs": [],
   "source": [
    "# define pipeline for preprocessing (equivalent with using TfidfVectorizer)\n",
    "preprocessor = Pipeline([\n",
    "    ('cv', CountVectorizer(lowercase=True,max_df=0.50,tokenizer=my_tokenizer)),\n",
    "    ('tf', TfidfTransformer())   \n",
    "])"
   ]
  },
  {
   "cell_type": "code",
   "execution_count": 132,
   "id": "eb3f8aeb-874a-43b4-81c5-2efee784f9f7",
   "metadata": {},
   "outputs": [
    {
     "name": "stderr",
     "output_type": "stream",
     "text": [
      "/Users/milad/opt/anaconda3/lib/python3.9/site-packages/sklearn/utils/deprecation.py:87: FutureWarning: Function get_feature_names is deprecated; get_feature_names is deprecated in 1.0 and will be removed in 1.2. Please use get_feature_names_out instead.\n",
      "  warnings.warn(msg, category=FutureWarning)\n"
     ]
    },
    {
     "data": {
      "text/html": [
       "<div>\n",
       "<style scoped>\n",
       "    .dataframe tbody tr th:only-of-type {\n",
       "        vertical-align: middle;\n",
       "    }\n",
       "\n",
       "    .dataframe tbody tr th {\n",
       "        vertical-align: top;\n",
       "    }\n",
       "\n",
       "    .dataframe thead th {\n",
       "        text-align: right;\n",
       "    }\n",
       "</style>\n",
       "<table border=\"1\" class=\"dataframe\">\n",
       "  <thead>\n",
       "    <tr style=\"text-align: right;\">\n",
       "      <th></th>\n",
       "      <th>aaaayy</th>\n",
       "      <th>abducts</th>\n",
       "      <th>abel</th>\n",
       "      <th>abide</th>\n",
       "      <th>able</th>\n",
       "      <th>abnormal</th>\n",
       "      <th>about</th>\n",
       "      <th>above</th>\n",
       "      <th>absolute</th>\n",
       "      <th>absolutely</th>\n",
       "      <th>...</th>\n",
       "      <th>yuh</th>\n",
       "      <th>yum</th>\n",
       "      <th>yummy</th>\n",
       "      <th>yup</th>\n",
       "      <th>yyou</th>\n",
       "      <th>zero</th>\n",
       "      <th>zeros</th>\n",
       "      <th>ziploc</th>\n",
       "      <th>zonday</th>\n",
       "      <th>zone</th>\n",
       "    </tr>\n",
       "  </thead>\n",
       "  <tbody>\n",
       "    <tr>\n",
       "      <th>count</th>\n",
       "      <td>446.000000</td>\n",
       "      <td>446.000000</td>\n",
       "      <td>446.000000</td>\n",
       "      <td>446.000000</td>\n",
       "      <td>446.000000</td>\n",
       "      <td>446.000000</td>\n",
       "      <td>446.000000</td>\n",
       "      <td>446.000000</td>\n",
       "      <td>446.000000</td>\n",
       "      <td>446.000000</td>\n",
       "      <td>...</td>\n",
       "      <td>446.000000</td>\n",
       "      <td>446.000000</td>\n",
       "      <td>446.000000</td>\n",
       "      <td>446.000000</td>\n",
       "      <td>446.000000</td>\n",
       "      <td>446.000000</td>\n",
       "      <td>446.000000</td>\n",
       "      <td>446.000000</td>\n",
       "      <td>446.000000</td>\n",
       "      <td>446.000000</td>\n",
       "    </tr>\n",
       "    <tr>\n",
       "      <th>mean</th>\n",
       "      <td>0.000141</td>\n",
       "      <td>0.000141</td>\n",
       "      <td>0.000097</td>\n",
       "      <td>0.000368</td>\n",
       "      <td>0.000361</td>\n",
       "      <td>0.000264</td>\n",
       "      <td>0.009946</td>\n",
       "      <td>0.001776</td>\n",
       "      <td>0.000240</td>\n",
       "      <td>0.000281</td>\n",
       "      <td>...</td>\n",
       "      <td>0.000640</td>\n",
       "      <td>0.000048</td>\n",
       "      <td>0.000048</td>\n",
       "      <td>0.000352</td>\n",
       "      <td>0.000398</td>\n",
       "      <td>0.000407</td>\n",
       "      <td>0.000260</td>\n",
       "      <td>0.000068</td>\n",
       "      <td>0.000076</td>\n",
       "      <td>0.000215</td>\n",
       "    </tr>\n",
       "    <tr>\n",
       "      <th>std</th>\n",
       "      <td>0.002981</td>\n",
       "      <td>0.002985</td>\n",
       "      <td>0.002052</td>\n",
       "      <td>0.007770</td>\n",
       "      <td>0.005522</td>\n",
       "      <td>0.005582</td>\n",
       "      <td>0.034874</td>\n",
       "      <td>0.016179</td>\n",
       "      <td>0.005062</td>\n",
       "      <td>0.004205</td>\n",
       "      <td>...</td>\n",
       "      <td>0.012791</td>\n",
       "      <td>0.001016</td>\n",
       "      <td>0.001016</td>\n",
       "      <td>0.005759</td>\n",
       "      <td>0.008397</td>\n",
       "      <td>0.005015</td>\n",
       "      <td>0.005501</td>\n",
       "      <td>0.001436</td>\n",
       "      <td>0.001615</td>\n",
       "      <td>0.004541</td>\n",
       "    </tr>\n",
       "    <tr>\n",
       "      <th>min</th>\n",
       "      <td>0.000000</td>\n",
       "      <td>0.000000</td>\n",
       "      <td>0.000000</td>\n",
       "      <td>0.000000</td>\n",
       "      <td>0.000000</td>\n",
       "      <td>0.000000</td>\n",
       "      <td>0.000000</td>\n",
       "      <td>0.000000</td>\n",
       "      <td>0.000000</td>\n",
       "      <td>0.000000</td>\n",
       "      <td>...</td>\n",
       "      <td>0.000000</td>\n",
       "      <td>0.000000</td>\n",
       "      <td>0.000000</td>\n",
       "      <td>0.000000</td>\n",
       "      <td>0.000000</td>\n",
       "      <td>0.000000</td>\n",
       "      <td>0.000000</td>\n",
       "      <td>0.000000</td>\n",
       "      <td>0.000000</td>\n",
       "      <td>0.000000</td>\n",
       "    </tr>\n",
       "    <tr>\n",
       "      <th>25%</th>\n",
       "      <td>0.000000</td>\n",
       "      <td>0.000000</td>\n",
       "      <td>0.000000</td>\n",
       "      <td>0.000000</td>\n",
       "      <td>0.000000</td>\n",
       "      <td>0.000000</td>\n",
       "      <td>0.000000</td>\n",
       "      <td>0.000000</td>\n",
       "      <td>0.000000</td>\n",
       "      <td>0.000000</td>\n",
       "      <td>...</td>\n",
       "      <td>0.000000</td>\n",
       "      <td>0.000000</td>\n",
       "      <td>0.000000</td>\n",
       "      <td>0.000000</td>\n",
       "      <td>0.000000</td>\n",
       "      <td>0.000000</td>\n",
       "      <td>0.000000</td>\n",
       "      <td>0.000000</td>\n",
       "      <td>0.000000</td>\n",
       "      <td>0.000000</td>\n",
       "    </tr>\n",
       "    <tr>\n",
       "      <th>50%</th>\n",
       "      <td>0.000000</td>\n",
       "      <td>0.000000</td>\n",
       "      <td>0.000000</td>\n",
       "      <td>0.000000</td>\n",
       "      <td>0.000000</td>\n",
       "      <td>0.000000</td>\n",
       "      <td>0.000000</td>\n",
       "      <td>0.000000</td>\n",
       "      <td>0.000000</td>\n",
       "      <td>0.000000</td>\n",
       "      <td>...</td>\n",
       "      <td>0.000000</td>\n",
       "      <td>0.000000</td>\n",
       "      <td>0.000000</td>\n",
       "      <td>0.000000</td>\n",
       "      <td>0.000000</td>\n",
       "      <td>0.000000</td>\n",
       "      <td>0.000000</td>\n",
       "      <td>0.000000</td>\n",
       "      <td>0.000000</td>\n",
       "      <td>0.000000</td>\n",
       "    </tr>\n",
       "    <tr>\n",
       "      <th>75%</th>\n",
       "      <td>0.000000</td>\n",
       "      <td>0.000000</td>\n",
       "      <td>0.000000</td>\n",
       "      <td>0.000000</td>\n",
       "      <td>0.000000</td>\n",
       "      <td>0.000000</td>\n",
       "      <td>0.000000</td>\n",
       "      <td>0.000000</td>\n",
       "      <td>0.000000</td>\n",
       "      <td>0.000000</td>\n",
       "      <td>...</td>\n",
       "      <td>0.000000</td>\n",
       "      <td>0.000000</td>\n",
       "      <td>0.000000</td>\n",
       "      <td>0.000000</td>\n",
       "      <td>0.000000</td>\n",
       "      <td>0.000000</td>\n",
       "      <td>0.000000</td>\n",
       "      <td>0.000000</td>\n",
       "      <td>0.000000</td>\n",
       "      <td>0.000000</td>\n",
       "    </tr>\n",
       "    <tr>\n",
       "      <th>max</th>\n",
       "      <td>0.062961</td>\n",
       "      <td>0.063046</td>\n",
       "      <td>0.043328</td>\n",
       "      <td>0.164101</td>\n",
       "      <td>0.098913</td>\n",
       "      <td>0.117889</td>\n",
       "      <td>0.286902</td>\n",
       "      <td>0.265146</td>\n",
       "      <td>0.106901</td>\n",
       "      <td>0.067242</td>\n",
       "      <td>...</td>\n",
       "      <td>0.269727</td>\n",
       "      <td>0.021461</td>\n",
       "      <td>0.021461</td>\n",
       "      <td>0.113652</td>\n",
       "      <td>0.177336</td>\n",
       "      <td>0.069412</td>\n",
       "      <td>0.116166</td>\n",
       "      <td>0.030332</td>\n",
       "      <td>0.034111</td>\n",
       "      <td>0.095910</td>\n",
       "    </tr>\n",
       "  </tbody>\n",
       "</table>\n",
       "<p>8 rows × 5747 columns</p>\n",
       "</div>"
      ],
      "text/plain": [
       "           aaaayy     abducts        abel       abide        able    abnormal  \\\n",
       "count  446.000000  446.000000  446.000000  446.000000  446.000000  446.000000   \n",
       "mean     0.000141    0.000141    0.000097    0.000368    0.000361    0.000264   \n",
       "std      0.002981    0.002985    0.002052    0.007770    0.005522    0.005582   \n",
       "min      0.000000    0.000000    0.000000    0.000000    0.000000    0.000000   \n",
       "25%      0.000000    0.000000    0.000000    0.000000    0.000000    0.000000   \n",
       "50%      0.000000    0.000000    0.000000    0.000000    0.000000    0.000000   \n",
       "75%      0.000000    0.000000    0.000000    0.000000    0.000000    0.000000   \n",
       "max      0.062961    0.063046    0.043328    0.164101    0.098913    0.117889   \n",
       "\n",
       "            about       above    absolute  absolutely  ...         yuh  \\\n",
       "count  446.000000  446.000000  446.000000  446.000000  ...  446.000000   \n",
       "mean     0.009946    0.001776    0.000240    0.000281  ...    0.000640   \n",
       "std      0.034874    0.016179    0.005062    0.004205  ...    0.012791   \n",
       "min      0.000000    0.000000    0.000000    0.000000  ...    0.000000   \n",
       "25%      0.000000    0.000000    0.000000    0.000000  ...    0.000000   \n",
       "50%      0.000000    0.000000    0.000000    0.000000  ...    0.000000   \n",
       "75%      0.000000    0.000000    0.000000    0.000000  ...    0.000000   \n",
       "max      0.286902    0.265146    0.106901    0.067242  ...    0.269727   \n",
       "\n",
       "              yum       yummy         yup        yyou        zero       zeros  \\\n",
       "count  446.000000  446.000000  446.000000  446.000000  446.000000  446.000000   \n",
       "mean     0.000048    0.000048    0.000352    0.000398    0.000407    0.000260   \n",
       "std      0.001016    0.001016    0.005759    0.008397    0.005015    0.005501   \n",
       "min      0.000000    0.000000    0.000000    0.000000    0.000000    0.000000   \n",
       "25%      0.000000    0.000000    0.000000    0.000000    0.000000    0.000000   \n",
       "50%      0.000000    0.000000    0.000000    0.000000    0.000000    0.000000   \n",
       "75%      0.000000    0.000000    0.000000    0.000000    0.000000    0.000000   \n",
       "max      0.021461    0.021461    0.113652    0.177336    0.069412    0.116166   \n",
       "\n",
       "           ziploc      zonday        zone  \n",
       "count  446.000000  446.000000  446.000000  \n",
       "mean     0.000068    0.000076    0.000215  \n",
       "std      0.001436    0.001615    0.004541  \n",
       "min      0.000000    0.000000    0.000000  \n",
       "25%      0.000000    0.000000    0.000000  \n",
       "50%      0.000000    0.000000    0.000000  \n",
       "75%      0.000000    0.000000    0.000000  \n",
       "max      0.030332    0.034111    0.095910  \n",
       "\n",
       "[8 rows x 5747 columns]"
      ]
     },
     "execution_count": 132,
     "metadata": {},
     "output_type": "execute_result"
    }
   ],
   "source": [
    "# take a look at X after preprocessing\n",
    "matrix = preprocessor.fit_transform(X_train)\n",
    "tfdf = pd.DataFrame(matrix.todense(), columns=preprocessor['cv'].get_feature_names())\n",
    "tfdf.describe()"
   ]
  },
  {
   "cell_type": "code",
   "execution_count": 134,
   "id": "dd4d09f7-991e-4e91-8ff3-ba9e06b5adaa",
   "metadata": {
    "tags": []
   },
   "outputs": [
    {
     "data": {
      "text/plain": [
       "{'all', 'and', 'but', 'for', 'just', 'that', 'the', 'you', 'your'}"
      ]
     },
     "execution_count": 134,
     "metadata": {},
     "output_type": "execute_result"
    }
   ],
   "source": [
    "# print out the stop words\n",
    "preprocessor['cv'].stop_words_"
   ]
  },
  {
   "cell_type": "markdown",
   "id": "eaf0b5b7-977b-4d5e-860f-fa23bc1a424a",
   "metadata": {},
   "source": [
    "#### Create Classifier"
   ]
  },
  {
   "cell_type": "code",
   "execution_count": 171,
   "id": "3aeb485d-17bd-4ca6-96c2-0336e8232940",
   "metadata": {},
   "outputs": [],
   "source": [
    "lr = Pipeline([\n",
    "    ('preprocessor', preprocessor),\n",
    "    ('m_lr', LogisticRegression(max_iter=1000,C=1.5))    \n",
    "])"
   ]
  },
  {
   "cell_type": "code",
   "execution_count": 172,
   "id": "a52f47be-5382-4a85-9372-e3fb727a4143",
   "metadata": {},
   "outputs": [
    {
     "data": {
      "text/html": [
       "<style>#sk-container-id-26 {color: black;background-color: white;}#sk-container-id-26 pre{padding: 0;}#sk-container-id-26 div.sk-toggleable {background-color: white;}#sk-container-id-26 label.sk-toggleable__label {cursor: pointer;display: block;width: 100%;margin-bottom: 0;padding: 0.3em;box-sizing: border-box;text-align: center;}#sk-container-id-26 label.sk-toggleable__label-arrow:before {content: \"▸\";float: left;margin-right: 0.25em;color: #696969;}#sk-container-id-26 label.sk-toggleable__label-arrow:hover:before {color: black;}#sk-container-id-26 div.sk-estimator:hover label.sk-toggleable__label-arrow:before {color: black;}#sk-container-id-26 div.sk-toggleable__content {max-height: 0;max-width: 0;overflow: hidden;text-align: left;background-color: #f0f8ff;}#sk-container-id-26 div.sk-toggleable__content pre {margin: 0.2em;color: black;border-radius: 0.25em;background-color: #f0f8ff;}#sk-container-id-26 input.sk-toggleable__control:checked~div.sk-toggleable__content {max-height: 200px;max-width: 100%;overflow: auto;}#sk-container-id-26 input.sk-toggleable__control:checked~label.sk-toggleable__label-arrow:before {content: \"▾\";}#sk-container-id-26 div.sk-estimator input.sk-toggleable__control:checked~label.sk-toggleable__label {background-color: #d4ebff;}#sk-container-id-26 div.sk-label input.sk-toggleable__control:checked~label.sk-toggleable__label {background-color: #d4ebff;}#sk-container-id-26 input.sk-hidden--visually {border: 0;clip: rect(1px 1px 1px 1px);clip: rect(1px, 1px, 1px, 1px);height: 1px;margin: -1px;overflow: hidden;padding: 0;position: absolute;width: 1px;}#sk-container-id-26 div.sk-estimator {font-family: monospace;background-color: #f0f8ff;border: 1px dotted black;border-radius: 0.25em;box-sizing: border-box;margin-bottom: 0.5em;}#sk-container-id-26 div.sk-estimator:hover {background-color: #d4ebff;}#sk-container-id-26 div.sk-parallel-item::after {content: \"\";width: 100%;border-bottom: 1px solid gray;flex-grow: 1;}#sk-container-id-26 div.sk-label:hover label.sk-toggleable__label {background-color: #d4ebff;}#sk-container-id-26 div.sk-serial::before {content: \"\";position: absolute;border-left: 1px solid gray;box-sizing: border-box;top: 0;bottom: 0;left: 50%;z-index: 0;}#sk-container-id-26 div.sk-serial {display: flex;flex-direction: column;align-items: center;background-color: white;padding-right: 0.2em;padding-left: 0.2em;position: relative;}#sk-container-id-26 div.sk-item {position: relative;z-index: 1;}#sk-container-id-26 div.sk-parallel {display: flex;align-items: stretch;justify-content: center;background-color: white;position: relative;}#sk-container-id-26 div.sk-item::before, #sk-container-id-26 div.sk-parallel-item::before {content: \"\";position: absolute;border-left: 1px solid gray;box-sizing: border-box;top: 0;bottom: 0;left: 50%;z-index: -1;}#sk-container-id-26 div.sk-parallel-item {display: flex;flex-direction: column;z-index: 1;position: relative;background-color: white;}#sk-container-id-26 div.sk-parallel-item:first-child::after {align-self: flex-end;width: 50%;}#sk-container-id-26 div.sk-parallel-item:last-child::after {align-self: flex-start;width: 50%;}#sk-container-id-26 div.sk-parallel-item:only-child::after {width: 0;}#sk-container-id-26 div.sk-dashed-wrapped {border: 1px dashed gray;margin: 0 0.4em 0.5em 0.4em;box-sizing: border-box;padding-bottom: 0.4em;background-color: white;}#sk-container-id-26 div.sk-label label {font-family: monospace;font-weight: bold;display: inline-block;line-height: 1.2em;}#sk-container-id-26 div.sk-label-container {text-align: center;}#sk-container-id-26 div.sk-container {/* jupyter's `normalize.less` sets `[hidden] { display: none; }` but bootstrap.min.css set `[hidden] { display: none !important; }` so we also need the `!important` here to be able to override the default hidden behavior on the sphinx rendered scikit-learn.org. See: https://github.com/scikit-learn/scikit-learn/issues/21755 */display: inline-block !important;position: relative;}#sk-container-id-26 div.sk-text-repr-fallback {display: none;}</style><div id=\"sk-container-id-26\" class=\"sk-top-container\"><div class=\"sk-text-repr-fallback\"><pre>Pipeline(steps=[(&#x27;preprocessor&#x27;,\n",
       "                 Pipeline(steps=[(&#x27;cv&#x27;,\n",
       "                                  CountVectorizer(max_df=0.5,\n",
       "                                                  tokenizer=&lt;function my_tokenizer at 0x7f9d2094b5e0&gt;)),\n",
       "                                 (&#x27;tf&#x27;, TfidfTransformer())])),\n",
       "                (&#x27;m_lr&#x27;, LogisticRegression(C=1.5, max_iter=1000))])</pre><b>In a Jupyter environment, please rerun this cell to show the HTML representation or trust the notebook. <br />On GitHub, the HTML representation is unable to render, please try loading this page with nbviewer.org.</b></div><div class=\"sk-container\" hidden><div class=\"sk-item sk-dashed-wrapped\"><div class=\"sk-label-container\"><div class=\"sk-label sk-toggleable\"><input class=\"sk-toggleable__control sk-hidden--visually\" id=\"sk-estimator-id-108\" type=\"checkbox\" ><label for=\"sk-estimator-id-108\" class=\"sk-toggleable__label sk-toggleable__label-arrow\">Pipeline</label><div class=\"sk-toggleable__content\"><pre>Pipeline(steps=[(&#x27;preprocessor&#x27;,\n",
       "                 Pipeline(steps=[(&#x27;cv&#x27;,\n",
       "                                  CountVectorizer(max_df=0.5,\n",
       "                                                  tokenizer=&lt;function my_tokenizer at 0x7f9d2094b5e0&gt;)),\n",
       "                                 (&#x27;tf&#x27;, TfidfTransformer())])),\n",
       "                (&#x27;m_lr&#x27;, LogisticRegression(C=1.5, max_iter=1000))])</pre></div></div></div><div class=\"sk-serial\"><div class=\"sk-item\"><div class=\"sk-label-container\"><div class=\"sk-label sk-toggleable\"><input class=\"sk-toggleable__control sk-hidden--visually\" id=\"sk-estimator-id-109\" type=\"checkbox\" ><label for=\"sk-estimator-id-109\" class=\"sk-toggleable__label sk-toggleable__label-arrow\">preprocessor: Pipeline</label><div class=\"sk-toggleable__content\"><pre>Pipeline(steps=[(&#x27;cv&#x27;,\n",
       "                 CountVectorizer(max_df=0.5,\n",
       "                                 tokenizer=&lt;function my_tokenizer at 0x7f9d2094b5e0&gt;)),\n",
       "                (&#x27;tf&#x27;, TfidfTransformer())])</pre></div></div></div><div class=\"sk-serial\"><div class=\"sk-item\"><div class=\"sk-estimator sk-toggleable\"><input class=\"sk-toggleable__control sk-hidden--visually\" id=\"sk-estimator-id-110\" type=\"checkbox\" ><label for=\"sk-estimator-id-110\" class=\"sk-toggleable__label sk-toggleable__label-arrow\">CountVectorizer</label><div class=\"sk-toggleable__content\"><pre>CountVectorizer(max_df=0.5, tokenizer=&lt;function my_tokenizer at 0x7f9d2094b5e0&gt;)</pre></div></div></div><div class=\"sk-item\"><div class=\"sk-estimator sk-toggleable\"><input class=\"sk-toggleable__control sk-hidden--visually\" id=\"sk-estimator-id-111\" type=\"checkbox\" ><label for=\"sk-estimator-id-111\" class=\"sk-toggleable__label sk-toggleable__label-arrow\">TfidfTransformer</label><div class=\"sk-toggleable__content\"><pre>TfidfTransformer()</pre></div></div></div></div></div><div class=\"sk-item\"><div class=\"sk-estimator sk-toggleable\"><input class=\"sk-toggleable__control sk-hidden--visually\" id=\"sk-estimator-id-112\" type=\"checkbox\" ><label for=\"sk-estimator-id-112\" class=\"sk-toggleable__label sk-toggleable__label-arrow\">LogisticRegression</label><div class=\"sk-toggleable__content\"><pre>LogisticRegression(C=1.5, max_iter=1000)</pre></div></div></div></div></div></div></div>"
      ],
      "text/plain": [
       "Pipeline(steps=[('preprocessor',\n",
       "                 Pipeline(steps=[('cv',\n",
       "                                  CountVectorizer(max_df=0.5,\n",
       "                                                  tokenizer=<function my_tokenizer at 0x7f9d2094b5e0>)),\n",
       "                                 ('tf', TfidfTransformer())])),\n",
       "                ('m_lr', LogisticRegression(C=1.5, max_iter=1000))])"
      ]
     },
     "execution_count": 172,
     "metadata": {},
     "output_type": "execute_result"
    }
   ],
   "source": [
    "lr.fit(X_train,y_train)"
   ]
  },
  {
   "cell_type": "markdown",
   "id": "6bb7cc92-d99f-4a03-80a3-2d2a27aec79c",
   "metadata": {},
   "source": [
    "#### Tune Hyperparameters"
   ]
  },
  {
   "cell_type": "code",
   "execution_count": 177,
   "id": "5e8a81c8-f6d4-49ea-ac7f-9dea962aa025",
   "metadata": {},
   "outputs": [
    {
     "data": {
      "text/plain": [
       "dict_keys(['memory', 'steps', 'verbose', 'preprocessor', 'm_lr', 'preprocessor__memory', 'preprocessor__steps', 'preprocessor__verbose', 'preprocessor__cv', 'preprocessor__tf', 'preprocessor__cv__analyzer', 'preprocessor__cv__binary', 'preprocessor__cv__decode_error', 'preprocessor__cv__dtype', 'preprocessor__cv__encoding', 'preprocessor__cv__input', 'preprocessor__cv__lowercase', 'preprocessor__cv__max_df', 'preprocessor__cv__max_features', 'preprocessor__cv__min_df', 'preprocessor__cv__ngram_range', 'preprocessor__cv__preprocessor', 'preprocessor__cv__stop_words', 'preprocessor__cv__strip_accents', 'preprocessor__cv__token_pattern', 'preprocessor__cv__tokenizer', 'preprocessor__cv__vocabulary', 'preprocessor__tf__norm', 'preprocessor__tf__smooth_idf', 'preprocessor__tf__sublinear_tf', 'preprocessor__tf__use_idf', 'm_lr__C', 'm_lr__class_weight', 'm_lr__dual', 'm_lr__fit_intercept', 'm_lr__intercept_scaling', 'm_lr__l1_ratio', 'm_lr__max_iter', 'm_lr__multi_class', 'm_lr__n_jobs', 'm_lr__penalty', 'm_lr__random_state', 'm_lr__solver', 'm_lr__tol', 'm_lr__verbose', 'm_lr__warm_start'])"
      ]
     },
     "execution_count": 177,
     "metadata": {},
     "output_type": "execute_result"
    }
   ],
   "source": [
    "# get list of hyperparameters\n",
    "lr.get_params().keys()"
   ]
  },
  {
   "cell_type": "code",
   "execution_count": 197,
   "id": "f5ed7b01-871a-4a18-a9cc-540ac4309b67",
   "metadata": {},
   "outputs": [],
   "source": [
    "parameters = {'m_lr__C': np.arange(1e-2,10,0.1)}"
   ]
  },
  {
   "cell_type": "code",
   "execution_count": 200,
   "id": "19691361-aceb-4fc1-a10d-29e58af39e3b",
   "metadata": {},
   "outputs": [
    {
     "data": {
      "text/plain": [
       "array([0.1, 0.2, 0.3, 0.4, 0.5, 0.6, 0.7, 0.8, 0.9, 1. , 1.1, 1.2, 1.3,\n",
       "       1.4, 1.5, 1.6, 1.7, 1.8, 1.9, 2. , 2.1, 2.2, 2.3, 2.4, 2.5, 2.6,\n",
       "       2.7, 2.8, 2.9, 3. , 3.1, 3.2, 3.3, 3.4, 3.5, 3.6, 3.7, 3.8, 3.9,\n",
       "       4. , 4.1, 4.2, 4.3, 4.4, 4.5, 4.6, 4.7, 4.8, 4.9, 5. , 5.1, 5.2,\n",
       "       5.3, 5.4, 5.5, 5.6, 5.7, 5.8, 5.9, 6. , 6.1, 6.2, 6.3, 6.4, 6.5,\n",
       "       6.6, 6.7, 6.8, 6.9, 7. , 7.1, 7.2, 7.3, 7.4, 7.5, 7.6, 7.7, 7.8,\n",
       "       7.9, 8. , 8.1, 8.2, 8.3, 8.4, 8.5, 8.6, 8.7, 8.8, 8.9, 9. , 9.1,\n",
       "       9.2, 9.3, 9.4, 9.5, 9.6, 9.7, 9.8, 9.9])"
      ]
     },
     "execution_count": 200,
     "metadata": {},
     "output_type": "execute_result"
    }
   ],
   "source": [
    "np.arange(0.1,10,0.1)"
   ]
  },
  {
   "cell_type": "code",
   "execution_count": 188,
   "id": "b9796398-6173-48f2-a20e-1678263f41ef",
   "metadata": {},
   "outputs": [],
   "source": [
    "cv_h =  GridSearchCV(estimator=lr,param_grid=parameters,cv=5,n_jobs=-1)"
   ]
  },
  {
   "cell_type": "code",
   "execution_count": 189,
   "id": "afd17082-151e-4b6d-bf4d-4e61864002bf",
   "metadata": {},
   "outputs": [
    {
     "data": {
      "text/html": [
       "<style>#sk-container-id-27 {color: black;background-color: white;}#sk-container-id-27 pre{padding: 0;}#sk-container-id-27 div.sk-toggleable {background-color: white;}#sk-container-id-27 label.sk-toggleable__label {cursor: pointer;display: block;width: 100%;margin-bottom: 0;padding: 0.3em;box-sizing: border-box;text-align: center;}#sk-container-id-27 label.sk-toggleable__label-arrow:before {content: \"▸\";float: left;margin-right: 0.25em;color: #696969;}#sk-container-id-27 label.sk-toggleable__label-arrow:hover:before {color: black;}#sk-container-id-27 div.sk-estimator:hover label.sk-toggleable__label-arrow:before {color: black;}#sk-container-id-27 div.sk-toggleable__content {max-height: 0;max-width: 0;overflow: hidden;text-align: left;background-color: #f0f8ff;}#sk-container-id-27 div.sk-toggleable__content pre {margin: 0.2em;color: black;border-radius: 0.25em;background-color: #f0f8ff;}#sk-container-id-27 input.sk-toggleable__control:checked~div.sk-toggleable__content {max-height: 200px;max-width: 100%;overflow: auto;}#sk-container-id-27 input.sk-toggleable__control:checked~label.sk-toggleable__label-arrow:before {content: \"▾\";}#sk-container-id-27 div.sk-estimator input.sk-toggleable__control:checked~label.sk-toggleable__label {background-color: #d4ebff;}#sk-container-id-27 div.sk-label input.sk-toggleable__control:checked~label.sk-toggleable__label {background-color: #d4ebff;}#sk-container-id-27 input.sk-hidden--visually {border: 0;clip: rect(1px 1px 1px 1px);clip: rect(1px, 1px, 1px, 1px);height: 1px;margin: -1px;overflow: hidden;padding: 0;position: absolute;width: 1px;}#sk-container-id-27 div.sk-estimator {font-family: monospace;background-color: #f0f8ff;border: 1px dotted black;border-radius: 0.25em;box-sizing: border-box;margin-bottom: 0.5em;}#sk-container-id-27 div.sk-estimator:hover {background-color: #d4ebff;}#sk-container-id-27 div.sk-parallel-item::after {content: \"\";width: 100%;border-bottom: 1px solid gray;flex-grow: 1;}#sk-container-id-27 div.sk-label:hover label.sk-toggleable__label {background-color: #d4ebff;}#sk-container-id-27 div.sk-serial::before {content: \"\";position: absolute;border-left: 1px solid gray;box-sizing: border-box;top: 0;bottom: 0;left: 50%;z-index: 0;}#sk-container-id-27 div.sk-serial {display: flex;flex-direction: column;align-items: center;background-color: white;padding-right: 0.2em;padding-left: 0.2em;position: relative;}#sk-container-id-27 div.sk-item {position: relative;z-index: 1;}#sk-container-id-27 div.sk-parallel {display: flex;align-items: stretch;justify-content: center;background-color: white;position: relative;}#sk-container-id-27 div.sk-item::before, #sk-container-id-27 div.sk-parallel-item::before {content: \"\";position: absolute;border-left: 1px solid gray;box-sizing: border-box;top: 0;bottom: 0;left: 50%;z-index: -1;}#sk-container-id-27 div.sk-parallel-item {display: flex;flex-direction: column;z-index: 1;position: relative;background-color: white;}#sk-container-id-27 div.sk-parallel-item:first-child::after {align-self: flex-end;width: 50%;}#sk-container-id-27 div.sk-parallel-item:last-child::after {align-self: flex-start;width: 50%;}#sk-container-id-27 div.sk-parallel-item:only-child::after {width: 0;}#sk-container-id-27 div.sk-dashed-wrapped {border: 1px dashed gray;margin: 0 0.4em 0.5em 0.4em;box-sizing: border-box;padding-bottom: 0.4em;background-color: white;}#sk-container-id-27 div.sk-label label {font-family: monospace;font-weight: bold;display: inline-block;line-height: 1.2em;}#sk-container-id-27 div.sk-label-container {text-align: center;}#sk-container-id-27 div.sk-container {/* jupyter's `normalize.less` sets `[hidden] { display: none; }` but bootstrap.min.css set `[hidden] { display: none !important; }` so we also need the `!important` here to be able to override the default hidden behavior on the sphinx rendered scikit-learn.org. See: https://github.com/scikit-learn/scikit-learn/issues/21755 */display: inline-block !important;position: relative;}#sk-container-id-27 div.sk-text-repr-fallback {display: none;}</style><div id=\"sk-container-id-27\" class=\"sk-top-container\"><div class=\"sk-text-repr-fallback\"><pre>GridSearchCV(cv=5,\n",
       "             estimator=Pipeline(steps=[(&#x27;preprocessor&#x27;,\n",
       "                                        Pipeline(steps=[(&#x27;cv&#x27;,\n",
       "                                                         CountVectorizer(max_df=0.5,\n",
       "                                                                         tokenizer=&lt;function my_tokenizer at 0x7f9d2094b5e0&gt;)),\n",
       "                                                        (&#x27;tf&#x27;,\n",
       "                                                         TfidfTransformer())])),\n",
       "                                       (&#x27;m_lr&#x27;,\n",
       "                                        LogisticRegression(C=1.5,\n",
       "                                                           max_iter=1000))]),\n",
       "             n_jobs=-1,\n",
       "             param_grid={&#x27;m_lr__C&#x27;: array([1.000e-02, 1.010e+00, 2.010e+00, 3.010e+00, 4.010e+00, 5.010e+00,\n",
       "       6.010e+00, 7...\n",
       "       1.201e+01, 1.301e+01, 1.401e+01, 1.501e+01, 1.601e+01, 1.701e+01,\n",
       "       1.801e+01, 1.901e+01, 2.001e+01, 2.101e+01, 2.201e+01, 2.301e+01,\n",
       "       2.401e+01, 2.501e+01, 2.601e+01, 2.701e+01, 2.801e+01, 2.901e+01,\n",
       "       3.001e+01, 3.101e+01, 3.201e+01, 3.301e+01, 3.401e+01, 3.501e+01,\n",
       "       3.601e+01, 3.701e+01, 3.801e+01, 3.901e+01, 4.001e+01, 4.101e+01,\n",
       "       4.201e+01, 4.301e+01, 4.401e+01, 4.501e+01, 4.601e+01, 4.701e+01,\n",
       "       4.801e+01, 4.901e+01])})</pre><b>In a Jupyter environment, please rerun this cell to show the HTML representation or trust the notebook. <br />On GitHub, the HTML representation is unable to render, please try loading this page with nbviewer.org.</b></div><div class=\"sk-container\" hidden><div class=\"sk-item sk-dashed-wrapped\"><div class=\"sk-label-container\"><div class=\"sk-label sk-toggleable\"><input class=\"sk-toggleable__control sk-hidden--visually\" id=\"sk-estimator-id-113\" type=\"checkbox\" ><label for=\"sk-estimator-id-113\" class=\"sk-toggleable__label sk-toggleable__label-arrow\">GridSearchCV</label><div class=\"sk-toggleable__content\"><pre>GridSearchCV(cv=5,\n",
       "             estimator=Pipeline(steps=[(&#x27;preprocessor&#x27;,\n",
       "                                        Pipeline(steps=[(&#x27;cv&#x27;,\n",
       "                                                         CountVectorizer(max_df=0.5,\n",
       "                                                                         tokenizer=&lt;function my_tokenizer at 0x7f9d2094b5e0&gt;)),\n",
       "                                                        (&#x27;tf&#x27;,\n",
       "                                                         TfidfTransformer())])),\n",
       "                                       (&#x27;m_lr&#x27;,\n",
       "                                        LogisticRegression(C=1.5,\n",
       "                                                           max_iter=1000))]),\n",
       "             n_jobs=-1,\n",
       "             param_grid={&#x27;m_lr__C&#x27;: array([1.000e-02, 1.010e+00, 2.010e+00, 3.010e+00, 4.010e+00, 5.010e+00,\n",
       "       6.010e+00, 7...\n",
       "       1.201e+01, 1.301e+01, 1.401e+01, 1.501e+01, 1.601e+01, 1.701e+01,\n",
       "       1.801e+01, 1.901e+01, 2.001e+01, 2.101e+01, 2.201e+01, 2.301e+01,\n",
       "       2.401e+01, 2.501e+01, 2.601e+01, 2.701e+01, 2.801e+01, 2.901e+01,\n",
       "       3.001e+01, 3.101e+01, 3.201e+01, 3.301e+01, 3.401e+01, 3.501e+01,\n",
       "       3.601e+01, 3.701e+01, 3.801e+01, 3.901e+01, 4.001e+01, 4.101e+01,\n",
       "       4.201e+01, 4.301e+01, 4.401e+01, 4.501e+01, 4.601e+01, 4.701e+01,\n",
       "       4.801e+01, 4.901e+01])})</pre></div></div></div><div class=\"sk-parallel\"><div class=\"sk-parallel-item\"><div class=\"sk-item\"><div class=\"sk-label-container\"><div class=\"sk-label sk-toggleable\"><input class=\"sk-toggleable__control sk-hidden--visually\" id=\"sk-estimator-id-114\" type=\"checkbox\" ><label for=\"sk-estimator-id-114\" class=\"sk-toggleable__label sk-toggleable__label-arrow\">estimator: Pipeline</label><div class=\"sk-toggleable__content\"><pre>Pipeline(steps=[(&#x27;preprocessor&#x27;,\n",
       "                 Pipeline(steps=[(&#x27;cv&#x27;,\n",
       "                                  CountVectorizer(max_df=0.5,\n",
       "                                                  tokenizer=&lt;function my_tokenizer at 0x7f9d2094b5e0&gt;)),\n",
       "                                 (&#x27;tf&#x27;, TfidfTransformer())])),\n",
       "                (&#x27;m_lr&#x27;, LogisticRegression(C=1.5, max_iter=1000))])</pre></div></div></div><div class=\"sk-serial\"><div class=\"sk-item\"><div class=\"sk-serial\"><div class=\"sk-item\"><div class=\"sk-label-container\"><div class=\"sk-label sk-toggleable\"><input class=\"sk-toggleable__control sk-hidden--visually\" id=\"sk-estimator-id-115\" type=\"checkbox\" ><label for=\"sk-estimator-id-115\" class=\"sk-toggleable__label sk-toggleable__label-arrow\">preprocessor: Pipeline</label><div class=\"sk-toggleable__content\"><pre>Pipeline(steps=[(&#x27;cv&#x27;,\n",
       "                 CountVectorizer(max_df=0.5,\n",
       "                                 tokenizer=&lt;function my_tokenizer at 0x7f9d2094b5e0&gt;)),\n",
       "                (&#x27;tf&#x27;, TfidfTransformer())])</pre></div></div></div><div class=\"sk-serial\"><div class=\"sk-item\"><div class=\"sk-estimator sk-toggleable\"><input class=\"sk-toggleable__control sk-hidden--visually\" id=\"sk-estimator-id-116\" type=\"checkbox\" ><label for=\"sk-estimator-id-116\" class=\"sk-toggleable__label sk-toggleable__label-arrow\">CountVectorizer</label><div class=\"sk-toggleable__content\"><pre>CountVectorizer(max_df=0.5, tokenizer=&lt;function my_tokenizer at 0x7f9d2094b5e0&gt;)</pre></div></div></div><div class=\"sk-item\"><div class=\"sk-estimator sk-toggleable\"><input class=\"sk-toggleable__control sk-hidden--visually\" id=\"sk-estimator-id-117\" type=\"checkbox\" ><label for=\"sk-estimator-id-117\" class=\"sk-toggleable__label sk-toggleable__label-arrow\">TfidfTransformer</label><div class=\"sk-toggleable__content\"><pre>TfidfTransformer()</pre></div></div></div></div></div><div class=\"sk-item\"><div class=\"sk-estimator sk-toggleable\"><input class=\"sk-toggleable__control sk-hidden--visually\" id=\"sk-estimator-id-118\" type=\"checkbox\" ><label for=\"sk-estimator-id-118\" class=\"sk-toggleable__label sk-toggleable__label-arrow\">LogisticRegression</label><div class=\"sk-toggleable__content\"><pre>LogisticRegression(C=1.5, max_iter=1000)</pre></div></div></div></div></div></div></div></div></div></div></div></div>"
      ],
      "text/plain": [
       "GridSearchCV(cv=5,\n",
       "             estimator=Pipeline(steps=[('preprocessor',\n",
       "                                        Pipeline(steps=[('cv',\n",
       "                                                         CountVectorizer(max_df=0.5,\n",
       "                                                                         tokenizer=<function my_tokenizer at 0x7f9d2094b5e0>)),\n",
       "                                                        ('tf',\n",
       "                                                         TfidfTransformer())])),\n",
       "                                       ('m_lr',\n",
       "                                        LogisticRegression(C=1.5,\n",
       "                                                           max_iter=1000))]),\n",
       "             n_jobs=-1,\n",
       "             param_grid={'m_lr__C': array([1.000e-02, 1.010e+00, 2.010e+00, 3.010e+00, 4.010e+00, 5.010e+00,\n",
       "       6.010e+00, 7...\n",
       "       1.201e+01, 1.301e+01, 1.401e+01, 1.501e+01, 1.601e+01, 1.701e+01,\n",
       "       1.801e+01, 1.901e+01, 2.001e+01, 2.101e+01, 2.201e+01, 2.301e+01,\n",
       "       2.401e+01, 2.501e+01, 2.601e+01, 2.701e+01, 2.801e+01, 2.901e+01,\n",
       "       3.001e+01, 3.101e+01, 3.201e+01, 3.301e+01, 3.401e+01, 3.501e+01,\n",
       "       3.601e+01, 3.701e+01, 3.801e+01, 3.901e+01, 4.001e+01, 4.101e+01,\n",
       "       4.201e+01, 4.301e+01, 4.401e+01, 4.501e+01, 4.601e+01, 4.701e+01,\n",
       "       4.801e+01, 4.901e+01])})"
      ]
     },
     "execution_count": 189,
     "metadata": {},
     "output_type": "execute_result"
    }
   ],
   "source": [
    "cv_h.fit(X_train,y_train)"
   ]
  },
  {
   "cell_type": "code",
   "execution_count": 195,
   "id": "776d0f1c-9e5e-4b10-b8cb-142337e6ce0f",
   "metadata": {},
   "outputs": [
    {
     "name": "stdout",
     "output_type": "stream",
     "text": [
      "Best:\n",
      "0.731  for  {'m_lr__C': 6.01}\n"
     ]
    }
   ],
   "source": [
    "# Print results of hyperparameter optimization using random search       \n",
    "print_results(cv_h, show_all=False)"
   ]
  },
  {
   "cell_type": "code",
   "execution_count": 201,
   "id": "05e63221-f633-4e17-bdf2-f825ccd97ef2",
   "metadata": {},
   "outputs": [
    {
     "data": {
      "text/html": [
       "<style>#sk-container-id-28 {color: black;background-color: white;}#sk-container-id-28 pre{padding: 0;}#sk-container-id-28 div.sk-toggleable {background-color: white;}#sk-container-id-28 label.sk-toggleable__label {cursor: pointer;display: block;width: 100%;margin-bottom: 0;padding: 0.3em;box-sizing: border-box;text-align: center;}#sk-container-id-28 label.sk-toggleable__label-arrow:before {content: \"▸\";float: left;margin-right: 0.25em;color: #696969;}#sk-container-id-28 label.sk-toggleable__label-arrow:hover:before {color: black;}#sk-container-id-28 div.sk-estimator:hover label.sk-toggleable__label-arrow:before {color: black;}#sk-container-id-28 div.sk-toggleable__content {max-height: 0;max-width: 0;overflow: hidden;text-align: left;background-color: #f0f8ff;}#sk-container-id-28 div.sk-toggleable__content pre {margin: 0.2em;color: black;border-radius: 0.25em;background-color: #f0f8ff;}#sk-container-id-28 input.sk-toggleable__control:checked~div.sk-toggleable__content {max-height: 200px;max-width: 100%;overflow: auto;}#sk-container-id-28 input.sk-toggleable__control:checked~label.sk-toggleable__label-arrow:before {content: \"▾\";}#sk-container-id-28 div.sk-estimator input.sk-toggleable__control:checked~label.sk-toggleable__label {background-color: #d4ebff;}#sk-container-id-28 div.sk-label input.sk-toggleable__control:checked~label.sk-toggleable__label {background-color: #d4ebff;}#sk-container-id-28 input.sk-hidden--visually {border: 0;clip: rect(1px 1px 1px 1px);clip: rect(1px, 1px, 1px, 1px);height: 1px;margin: -1px;overflow: hidden;padding: 0;position: absolute;width: 1px;}#sk-container-id-28 div.sk-estimator {font-family: monospace;background-color: #f0f8ff;border: 1px dotted black;border-radius: 0.25em;box-sizing: border-box;margin-bottom: 0.5em;}#sk-container-id-28 div.sk-estimator:hover {background-color: #d4ebff;}#sk-container-id-28 div.sk-parallel-item::after {content: \"\";width: 100%;border-bottom: 1px solid gray;flex-grow: 1;}#sk-container-id-28 div.sk-label:hover label.sk-toggleable__label {background-color: #d4ebff;}#sk-container-id-28 div.sk-serial::before {content: \"\";position: absolute;border-left: 1px solid gray;box-sizing: border-box;top: 0;bottom: 0;left: 50%;z-index: 0;}#sk-container-id-28 div.sk-serial {display: flex;flex-direction: column;align-items: center;background-color: white;padding-right: 0.2em;padding-left: 0.2em;position: relative;}#sk-container-id-28 div.sk-item {position: relative;z-index: 1;}#sk-container-id-28 div.sk-parallel {display: flex;align-items: stretch;justify-content: center;background-color: white;position: relative;}#sk-container-id-28 div.sk-item::before, #sk-container-id-28 div.sk-parallel-item::before {content: \"\";position: absolute;border-left: 1px solid gray;box-sizing: border-box;top: 0;bottom: 0;left: 50%;z-index: -1;}#sk-container-id-28 div.sk-parallel-item {display: flex;flex-direction: column;z-index: 1;position: relative;background-color: white;}#sk-container-id-28 div.sk-parallel-item:first-child::after {align-self: flex-end;width: 50%;}#sk-container-id-28 div.sk-parallel-item:last-child::after {align-self: flex-start;width: 50%;}#sk-container-id-28 div.sk-parallel-item:only-child::after {width: 0;}#sk-container-id-28 div.sk-dashed-wrapped {border: 1px dashed gray;margin: 0 0.4em 0.5em 0.4em;box-sizing: border-box;padding-bottom: 0.4em;background-color: white;}#sk-container-id-28 div.sk-label label {font-family: monospace;font-weight: bold;display: inline-block;line-height: 1.2em;}#sk-container-id-28 div.sk-label-container {text-align: center;}#sk-container-id-28 div.sk-container {/* jupyter's `normalize.less` sets `[hidden] { display: none; }` but bootstrap.min.css set `[hidden] { display: none !important; }` so we also need the `!important` here to be able to override the default hidden behavior on the sphinx rendered scikit-learn.org. See: https://github.com/scikit-learn/scikit-learn/issues/21755 */display: inline-block !important;position: relative;}#sk-container-id-28 div.sk-text-repr-fallback {display: none;}</style><div id=\"sk-container-id-28\" class=\"sk-top-container\"><div class=\"sk-text-repr-fallback\"><pre>Pipeline(steps=[(&#x27;preprocessor&#x27;,\n",
       "                 Pipeline(steps=[(&#x27;cv&#x27;,\n",
       "                                  CountVectorizer(max_df=0.5,\n",
       "                                                  tokenizer=&lt;function my_tokenizer at 0x7f9d2094b5e0&gt;)),\n",
       "                                 (&#x27;tf&#x27;, TfidfTransformer())])),\n",
       "                (&#x27;m_lr&#x27;, LogisticRegression(C=6.01, max_iter=1000))])</pre><b>In a Jupyter environment, please rerun this cell to show the HTML representation or trust the notebook. <br />On GitHub, the HTML representation is unable to render, please try loading this page with nbviewer.org.</b></div><div class=\"sk-container\" hidden><div class=\"sk-item sk-dashed-wrapped\"><div class=\"sk-label-container\"><div class=\"sk-label sk-toggleable\"><input class=\"sk-toggleable__control sk-hidden--visually\" id=\"sk-estimator-id-119\" type=\"checkbox\" ><label for=\"sk-estimator-id-119\" class=\"sk-toggleable__label sk-toggleable__label-arrow\">Pipeline</label><div class=\"sk-toggleable__content\"><pre>Pipeline(steps=[(&#x27;preprocessor&#x27;,\n",
       "                 Pipeline(steps=[(&#x27;cv&#x27;,\n",
       "                                  CountVectorizer(max_df=0.5,\n",
       "                                                  tokenizer=&lt;function my_tokenizer at 0x7f9d2094b5e0&gt;)),\n",
       "                                 (&#x27;tf&#x27;, TfidfTransformer())])),\n",
       "                (&#x27;m_lr&#x27;, LogisticRegression(C=6.01, max_iter=1000))])</pre></div></div></div><div class=\"sk-serial\"><div class=\"sk-item\"><div class=\"sk-label-container\"><div class=\"sk-label sk-toggleable\"><input class=\"sk-toggleable__control sk-hidden--visually\" id=\"sk-estimator-id-120\" type=\"checkbox\" ><label for=\"sk-estimator-id-120\" class=\"sk-toggleable__label sk-toggleable__label-arrow\">preprocessor: Pipeline</label><div class=\"sk-toggleable__content\"><pre>Pipeline(steps=[(&#x27;cv&#x27;,\n",
       "                 CountVectorizer(max_df=0.5,\n",
       "                                 tokenizer=&lt;function my_tokenizer at 0x7f9d2094b5e0&gt;)),\n",
       "                (&#x27;tf&#x27;, TfidfTransformer())])</pre></div></div></div><div class=\"sk-serial\"><div class=\"sk-item\"><div class=\"sk-estimator sk-toggleable\"><input class=\"sk-toggleable__control sk-hidden--visually\" id=\"sk-estimator-id-121\" type=\"checkbox\" ><label for=\"sk-estimator-id-121\" class=\"sk-toggleable__label sk-toggleable__label-arrow\">CountVectorizer</label><div class=\"sk-toggleable__content\"><pre>CountVectorizer(max_df=0.5, tokenizer=&lt;function my_tokenizer at 0x7f9d2094b5e0&gt;)</pre></div></div></div><div class=\"sk-item\"><div class=\"sk-estimator sk-toggleable\"><input class=\"sk-toggleable__control sk-hidden--visually\" id=\"sk-estimator-id-122\" type=\"checkbox\" ><label for=\"sk-estimator-id-122\" class=\"sk-toggleable__label sk-toggleable__label-arrow\">TfidfTransformer</label><div class=\"sk-toggleable__content\"><pre>TfidfTransformer()</pre></div></div></div></div></div><div class=\"sk-item\"><div class=\"sk-estimator sk-toggleable\"><input class=\"sk-toggleable__control sk-hidden--visually\" id=\"sk-estimator-id-123\" type=\"checkbox\" ><label for=\"sk-estimator-id-123\" class=\"sk-toggleable__label sk-toggleable__label-arrow\">LogisticRegression</label><div class=\"sk-toggleable__content\"><pre>LogisticRegression(C=6.01, max_iter=1000)</pre></div></div></div></div></div></div></div>"
      ],
      "text/plain": [
       "Pipeline(steps=[('preprocessor',\n",
       "                 Pipeline(steps=[('cv',\n",
       "                                  CountVectorizer(max_df=0.5,\n",
       "                                                  tokenizer=<function my_tokenizer at 0x7f9d2094b5e0>)),\n",
       "                                 ('tf', TfidfTransformer())])),\n",
       "                ('m_lr', LogisticRegression(C=6.01, max_iter=1000))])"
      ]
     },
     "execution_count": 201,
     "metadata": {},
     "output_type": "execute_result"
    }
   ],
   "source": [
    "# Extract best model\n",
    "lr_best = cv_h.best_estimator_\n",
    "lr_best"
   ]
  },
  {
   "cell_type": "markdown",
   "id": "bd31cf40-385f-4fbd-b0ed-97591bb5b3fd",
   "metadata": {},
   "source": [
    "#### Evaluate Classifier"
   ]
  },
  {
   "cell_type": "code",
   "execution_count": 202,
   "id": "085d998d-5c00-4d19-847b-9adec2eb2e4b",
   "metadata": {},
   "outputs": [
    {
     "name": "stderr",
     "output_type": "stream",
     "text": [
      "/Users/milad/opt/anaconda3/lib/python3.9/site-packages/sklearn/utils/deprecation.py:87: FutureWarning: Function plot_confusion_matrix is deprecated; Function `plot_confusion_matrix` is deprecated in 1.0 and will be removed in 1.2. Use one of the class methods: ConfusionMatrixDisplay.from_predictions or ConfusionMatrixDisplay.from_estimator.\n",
      "  warnings.warn(msg, category=FutureWarning)\n"
     ]
    },
    {
     "data": {
      "image/png": "[encoded data removed]",
      "text/plain": [
       "<Figure size 432x288 with 2 Axes>"
      ]
     },
     "metadata": {
      "needs_background": "light"
     },
     "output_type": "display_data"
    }
   ],
   "source": [
    "# plot confusion matrix\n",
    "metrics.plot_confusion_matrix(lr_best, X_test, y_test,\n",
    "                              values_format=\".4g\", \n",
    "                              cmap='Blues'\n",
    "                             );"
   ]
  },
  {
   "cell_type": "code",
   "execution_count": 203,
   "id": "dd6e9ba4-d899-487f-b925-4cbf5c894d78",
   "metadata": {},
   "outputs": [
    {
     "name": "stdout",
     "output_type": "stream",
     "text": [
      "train score: 1.0\n",
      "test score: 0.71\n"
     ]
    }
   ],
   "source": [
    "print_evaluation_metrics(lr_best,X_train,y_train,X_test,y_test)"
   ]
  },
  {
   "cell_type": "code",
   "execution_count": 120,
   "id": "a7c53493-53c9-4829-b7ca-2bfa7e63a30e",
   "metadata": {
    "tags": []
   },
   "outputs": [
    {
     "name": "stderr",
     "output_type": "stream",
     "text": [
      "/Users/milad/opt/anaconda3/lib/python3.9/site-packages/sklearn/metrics/_classification.py:1334: UndefinedMetricWarning: Precision is ill-defined and being set to 0.0 in labels with no predicted samples. Use `zero_division` parameter to control this behavior.\n",
      "  _warn_prf(average, modifier, msg_start, len(result))\n",
      "/Users/milad/opt/anaconda3/lib/python3.9/site-packages/sklearn/metrics/_classification.py:1334: UndefinedMetricWarning: Precision is ill-defined and being set to 0.0 in labels with no predicted samples. Use `zero_division` parameter to control this behavior.\n",
      "  _warn_prf(average, modifier, msg_start, len(result))\n"
     ]
    },
    {
     "data": {
      "text/plain": [
       "{'Classifier Name': ['Logistic Regression'],\n",
       " 'AUC': [0.86],\n",
       " 'Accuracy': [0.51],\n",
       " 'Precision': [0.59],\n",
       " 'Recall': [0.51],\n",
       " 'F1': [0.42]}"
      ]
     },
     "execution_count": 120,
     "metadata": {},
     "output_type": "execute_result"
    }
   ],
   "source": [
    "summary = {'Classifier Name':[],'AUC':[],'Accuracy':[]\n",
    "           ,'Precision':[],'Recall':[],'F1':[]}\n",
    "\n",
    "summary = save_evaluation_metrics(lr,'Logistic Regression',summary,X,y)\n",
    "summary"
   ]
  },
  {
   "cell_type": "code",
   "execution_count": null,
   "id": "06fdf348-5de6-43aa-be43-e9dfd0c4439a",
   "metadata": {},
   "outputs": [],
   "source": [
    "# Hyper"
   ]
  }
 ],
 "metadata": {
  "kernelspec": {
   "display_name": "Python 3 (ipykernel)",
   "language": "python",
   "name": "python3"
  },
  "language_info": {
   "codemirror_mode": {
    "name": "ipython",
    "version": 3
   },
   "file_extension": ".py",
   "mimetype": "text/x-python",
   "name": "python",
   "nbconvert_exporter": "python",
   "pygments_lexer": "ipython3",
   "version": "3.9.12"
  }
 },
 "nbformat": 4,
 "nbformat_minor": 5
}
