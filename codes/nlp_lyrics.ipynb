{
 "cells": [
  {
   "cell_type": "markdown",
   "id": "1ee623c7-b519-4d4a-ab82-d8ec4212f5ca",
   "metadata": {},
   "source": [
    "### Load Libraries"
   ]
  },
  {
   "cell_type": "code",
   "execution_count": 15,
   "id": "5ca7a8e0-1e7a-4ca8-ad32-548c5cb021d1",
   "metadata": {},
   "outputs": [],
   "source": [
    "import pandas as pd\n",
    "import numpy as np\n",
    "import string\n",
    "import os\n",
    "\n",
    "from sklearn.feature_extraction.text import CountVectorizer, TfidfTransformer\n",
    "from sklearn.model_selection import train_test_split\n",
    "from sklearn.pipeline import Pipeline\n",
    "from sklearn.linear_model import LogisticRegression\n",
    "from sklearn import metrics\n"
   ]
  },
  {
   "cell_type": "markdown",
   "id": "200a759e-ab33-4b63-b169-956d771f4514",
   "metadata": {},
   "source": [
    "### Load Data"
   ]
  },
  {
   "cell_type": "code",
   "execution_count": 2,
   "id": "2ca02b38-c445-42c0-8f19-0e5bf0fb7c8b",
   "metadata": {},
   "outputs": [],
   "source": [
    "def make_song_df(path):\n",
    "    \"\"\" Build a data frame from all the text files which consist in path \"\"\"\n",
    "    corpus = []\n",
    "    artists_name = []\n",
    "    songs_name = []\n",
    "    folders = [name for name in os.listdir(path) if ( name[0] != '.' )]\n",
    "    for folder in folders:\n",
    "        files = os.listdir(f'{path}/{folder}')\n",
    "        for file in files:\n",
    "            if file == '.DS_Store':\n",
    "                continue\n",
    "            if os.path.isfile(f'{path}/{folder}/{file}'):\n",
    "\n",
    "                song_name = os.path.splitext(file)[0]\n",
    "                song_name = song_name.replace('_', ' ')\n",
    "                songs_name.append(song_name)\n",
    "    \n",
    "                artists_name.append(folder.replace('_',' '))\n",
    "                lyric = open(file=f'{path}/{folder}/{file}',mode='r').read()\n",
    "                corpus.append(lyric)\n",
    "            else:\n",
    "                continue\n",
    "    dict = {'artist_name': artists_name, 'song_name': songs_name, 'lyric': corpus} \n",
    "    df = pd.DataFrame(dict)\n",
    "    return df"
   ]
  },
  {
   "cell_type": "code",
   "execution_count": 3,
   "id": "e7560106-451b-4cc5-b217-2c92452d8ef9",
   "metadata": {},
   "outputs": [
    {
     "data": {
      "text/html": [
       "<div>\n",
       "<style scoped>\n",
       "    .dataframe tbody tr th:only-of-type {\n",
       "        vertical-align: middle;\n",
       "    }\n",
       "\n",
       "    .dataframe tbody tr th {\n",
       "        vertical-align: top;\n",
       "    }\n",
       "\n",
       "    .dataframe thead th {\n",
       "        text-align: right;\n",
       "    }\n",
       "</style>\n",
       "<table border=\"1\" class=\"dataframe\">\n",
       "  <thead>\n",
       "    <tr style=\"text-align: right;\">\n",
       "      <th></th>\n",
       "      <th>artist_name</th>\n",
       "      <th>song_name</th>\n",
       "      <th>lyric</th>\n",
       "    </tr>\n",
       "  </thead>\n",
       "  <tbody>\n",
       "    <tr>\n",
       "      <th>0</th>\n",
       "      <td>metallica</td>\n",
       "      <td>free speech for the dumb</td>\n",
       "      <td>\\n\\nFree speech, free speech for the dumb\\nFre...</td>\n",
       "    </tr>\n",
       "    <tr>\n",
       "      <th>1</th>\n",
       "      <td>metallica</td>\n",
       "      <td>fuel</td>\n",
       "      <td>\\n\\nGimme fuel\\nGimme fire\\nGimme that which I...</td>\n",
       "    </tr>\n",
       "    <tr>\n",
       "      <th>2</th>\n",
       "      <td>metallica</td>\n",
       "      <td>for whom the bell tolls</td>\n",
       "      <td>\\n\\nMake his fight on the hill in the early da...</td>\n",
       "    </tr>\n",
       "    <tr>\n",
       "      <th>3</th>\n",
       "      <td>metallica</td>\n",
       "      <td>hero of the day</td>\n",
       "      <td>\\n\\nMama, they try and break me\\n\\nThe window ...</td>\n",
       "    </tr>\n",
       "    <tr>\n",
       "      <th>4</th>\n",
       "      <td>metallica</td>\n",
       "      <td>frustration</td>\n",
       "      <td>\\n\\nFrustration\\nIn my lexicon of hate\\nI see ...</td>\n",
       "    </tr>\n",
       "    <tr>\n",
       "      <th>...</th>\n",
       "      <td>...</td>\n",
       "      <td>...</td>\n",
       "      <td>...</td>\n",
       "    </tr>\n",
       "    <tr>\n",
       "      <th>353</th>\n",
       "      <td>billieeilish</td>\n",
       "      <td>idontwannabeyouanymore</td>\n",
       "      <td>\\n\\nDon't be that way\\nFall apart twice a day\\...</td>\n",
       "    </tr>\n",
       "    <tr>\n",
       "      <th>354</th>\n",
       "      <td>billieeilish</td>\n",
       "      <td>xanny</td>\n",
       "      <td>\\n\\nWhat is it about them?\\nI must be missing ...</td>\n",
       "    </tr>\n",
       "    <tr>\n",
       "      <th>355</th>\n",
       "      <td>billieeilish</td>\n",
       "      <td>burn</td>\n",
       "      <td>\\n\\n[Billie Eilish:]\\nLips meet teeth and tong...</td>\n",
       "    </tr>\n",
       "    <tr>\n",
       "      <th>356</th>\n",
       "      <td>billieeilish</td>\n",
       "      <td>when the partys over</td>\n",
       "      <td>\\n\\nDon't you know I'm no good for you?\\nI've ...</td>\n",
       "    </tr>\n",
       "    <tr>\n",
       "      <th>357</th>\n",
       "      <td>billieeilish</td>\n",
       "      <td>i love you</td>\n",
       "      <td>\\n\\nIt's not true, tell me I've been lied to\\n...</td>\n",
       "    </tr>\n",
       "  </tbody>\n",
       "</table>\n",
       "<p>358 rows × 3 columns</p>\n",
       "</div>"
      ],
      "text/plain": [
       "      artist_name                 song_name  \\\n",
       "0       metallica  free speech for the dumb   \n",
       "1       metallica                      fuel   \n",
       "2       metallica   for whom the bell tolls   \n",
       "3       metallica           hero of the day   \n",
       "4       metallica               frustration   \n",
       "..            ...                       ...   \n",
       "353  billieeilish    idontwannabeyouanymore   \n",
       "354  billieeilish                     xanny   \n",
       "355  billieeilish                      burn   \n",
       "356  billieeilish      when the partys over   \n",
       "357  billieeilish                i love you   \n",
       "\n",
       "                                                 lyric  \n",
       "0    \\n\\nFree speech, free speech for the dumb\\nFre...  \n",
       "1    \\n\\nGimme fuel\\nGimme fire\\nGimme that which I...  \n",
       "2    \\n\\nMake his fight on the hill in the early da...  \n",
       "3    \\n\\nMama, they try and break me\\n\\nThe window ...  \n",
       "4    \\n\\nFrustration\\nIn my lexicon of hate\\nI see ...  \n",
       "..                                                 ...  \n",
       "353  \\n\\nDon't be that way\\nFall apart twice a day\\...  \n",
       "354  \\n\\nWhat is it about them?\\nI must be missing ...  \n",
       "355  \\n\\n[Billie Eilish:]\\nLips meet teeth and tong...  \n",
       "356  \\n\\nDon't you know I'm no good for you?\\nI've ...  \n",
       "357  \\n\\nIt's not true, tell me I've been lied to\\n...  \n",
       "\n",
       "[358 rows x 3 columns]"
      ]
     },
     "execution_count": 3,
     "metadata": {},
     "output_type": "execute_result"
    }
   ],
   "source": [
    "# build a data frame from lyrics files\n",
    "df = make_song_df(path='../data/')\n",
    "df"
   ]
  },
  {
   "cell_type": "markdown",
   "id": "862589d3-2502-4918-ab07-264254e4bcf5",
   "metadata": {},
   "source": [
    "### Exploratory Data Analysis"
   ]
  },
  {
   "cell_type": "code",
   "execution_count": null,
   "id": "178ffaf5-d3da-4f3e-b04c-9d76f8feaf81",
   "metadata": {},
   "outputs": [],
   "source": []
  },
  {
   "cell_type": "markdown",
   "id": "0eedaaf3-1fce-4b6a-ad84-6235e11b708e",
   "metadata": {},
   "source": [
    "### Logistic Regression"
   ]
  },
  {
   "cell_type": "code",
   "execution_count": 4,
   "id": "051ecea2-9e0c-4c89-b5cc-d280dfd7c7a9",
   "metadata": {},
   "outputs": [],
   "source": [
    "# define features and target\n",
    "X = df['lyric']\n",
    "y = df['artist_name']"
   ]
  },
  {
   "cell_type": "code",
   "execution_count": 5,
   "id": "fc32022f-5b92-499d-b53b-a188d987d0bb",
   "metadata": {},
   "outputs": [
    {
     "data": {
      "text/plain": [
       "((286,), (72,))"
      ]
     },
     "execution_count": 5,
     "metadata": {},
     "output_type": "execute_result"
    }
   ],
   "source": [
    "# train-test split\n",
    "X_train, X_test, y_train, y_test = train_test_split(X, y, test_size=0.2, random_state=0)\n",
    "X_train.shape, X_test.shape"
   ]
  },
  {
   "cell_type": "markdown",
   "id": "3a2c075a-ff00-499d-b0df-51204da1ea10",
   "metadata": {},
   "source": [
    "#### Define Preprocessing Pipeline"
   ]
  },
  {
   "cell_type": "code",
   "execution_count": 6,
   "id": "e643e0b7-d66f-4f52-af5e-1d68f5bf7242",
   "metadata": {},
   "outputs": [],
   "source": [
    "# define tekonizer function\n",
    "def my_tokenizer(text):\n",
    "    table = str.maketrans('','',string.punctuation)\n",
    "    # split the text into separate words\n",
    "    text = text.split()\n",
    "    #remove punctuations\n",
    "    text = [word.translate(table) for word in text]\n",
    "    #remove words which are less than two character e.g. 's and a\n",
    "    text = [word for word in text if(len(word)>2)]\n",
    "    #remove words which include of numbers\n",
    "    text = [word for word in text if(word.isalpha())]\n",
    "    return text"
   ]
  },
  {
   "cell_type": "code",
   "execution_count": 7,
   "id": "c8f7b02a-e820-457b-8703-6a6995f254b9",
   "metadata": {},
   "outputs": [],
   "source": [
    "# define pipeline for preprocessing (equivalent with using TfidfVectorizer)\n",
    "preprocessor = Pipeline([\n",
    "    ('cv', CountVectorizer(lowercase=True,max_df=0.50,tokenizer=my_tokenizer)),\n",
    "    #('tf', TfidfTransformer())   \n",
    "])"
   ]
  },
  {
   "cell_type": "code",
   "execution_count": 8,
   "id": "eb3f8aeb-874a-43b4-81c5-2efee784f9f7",
   "metadata": {},
   "outputs": [
    {
     "name": "stderr",
     "output_type": "stream",
     "text": [
      "/Users/milad/opt/anaconda3/lib/python3.9/site-packages/sklearn/utils/deprecation.py:87: FutureWarning: Function get_feature_names is deprecated; get_feature_names is deprecated in 1.0 and will be removed in 1.2. Please use get_feature_names_out instead.\n",
      "  warnings.warn(msg, category=FutureWarning)\n"
     ]
    },
    {
     "data": {
      "text/html": [
       "<div>\n",
       "<style scoped>\n",
       "    .dataframe tbody tr th:only-of-type {\n",
       "        vertical-align: middle;\n",
       "    }\n",
       "\n",
       "    .dataframe tbody tr th {\n",
       "        vertical-align: top;\n",
       "    }\n",
       "\n",
       "    .dataframe thead th {\n",
       "        text-align: right;\n",
       "    }\n",
       "</style>\n",
       "<table border=\"1\" class=\"dataframe\">\n",
       "  <thead>\n",
       "    <tr style=\"text-align: right;\">\n",
       "      <th></th>\n",
       "      <th>aah</th>\n",
       "      <th>aaha</th>\n",
       "      <th>abducts</th>\n",
       "      <th>able</th>\n",
       "      <th>abnormal</th>\n",
       "      <th>about</th>\n",
       "      <th>above</th>\n",
       "      <th>absolute</th>\n",
       "      <th>absolution</th>\n",
       "      <th>absurd</th>\n",
       "      <th>...</th>\n",
       "      <th>youll</th>\n",
       "      <th>young</th>\n",
       "      <th>youre</th>\n",
       "      <th>yours</th>\n",
       "      <th>yourself</th>\n",
       "      <th>youself</th>\n",
       "      <th>youth</th>\n",
       "      <th>youve</th>\n",
       "      <th>zero</th>\n",
       "      <th>zeros</th>\n",
       "    </tr>\n",
       "  </thead>\n",
       "  <tbody>\n",
       "    <tr>\n",
       "      <th>count</th>\n",
       "      <td>286.000000</td>\n",
       "      <td>286.000000</td>\n",
       "      <td>286.000000</td>\n",
       "      <td>286.000000</td>\n",
       "      <td>286.000000</td>\n",
       "      <td>286.000000</td>\n",
       "      <td>286.000000</td>\n",
       "      <td>286.000000</td>\n",
       "      <td>286.000000</td>\n",
       "      <td>286.000000</td>\n",
       "      <td>...</td>\n",
       "      <td>286.000000</td>\n",
       "      <td>286.000000</td>\n",
       "      <td>286.000000</td>\n",
       "      <td>286.000000</td>\n",
       "      <td>286.00000</td>\n",
       "      <td>286.000000</td>\n",
       "      <td>286.000000</td>\n",
       "      <td>286.000000</td>\n",
       "      <td>286.000000</td>\n",
       "      <td>286.000000</td>\n",
       "    </tr>\n",
       "    <tr>\n",
       "      <th>mean</th>\n",
       "      <td>0.006993</td>\n",
       "      <td>0.010490</td>\n",
       "      <td>0.003497</td>\n",
       "      <td>0.006993</td>\n",
       "      <td>0.006993</td>\n",
       "      <td>0.118881</td>\n",
       "      <td>0.073427</td>\n",
       "      <td>0.003497</td>\n",
       "      <td>0.003497</td>\n",
       "      <td>0.003497</td>\n",
       "      <td>...</td>\n",
       "      <td>0.230769</td>\n",
       "      <td>0.048951</td>\n",
       "      <td>0.681818</td>\n",
       "      <td>0.027972</td>\n",
       "      <td>0.06993</td>\n",
       "      <td>0.003497</td>\n",
       "      <td>0.006993</td>\n",
       "      <td>0.202797</td>\n",
       "      <td>0.010490</td>\n",
       "      <td>0.003497</td>\n",
       "    </tr>\n",
       "    <tr>\n",
       "      <th>std</th>\n",
       "      <td>0.118262</td>\n",
       "      <td>0.177394</td>\n",
       "      <td>0.059131</td>\n",
       "      <td>0.118262</td>\n",
       "      <td>0.118262</td>\n",
       "      <td>0.450956</td>\n",
       "      <td>0.464373</td>\n",
       "      <td>0.059131</td>\n",
       "      <td>0.059131</td>\n",
       "      <td>0.059131</td>\n",
       "      <td>...</td>\n",
       "      <td>1.194680</td>\n",
       "      <td>0.286017</td>\n",
       "      <td>1.630892</td>\n",
       "      <td>0.235277</td>\n",
       "      <td>0.31679</td>\n",
       "      <td>0.059131</td>\n",
       "      <td>0.083477</td>\n",
       "      <td>1.431767</td>\n",
       "      <td>0.177394</td>\n",
       "      <td>0.059131</td>\n",
       "    </tr>\n",
       "    <tr>\n",
       "      <th>min</th>\n",
       "      <td>0.000000</td>\n",
       "      <td>0.000000</td>\n",
       "      <td>0.000000</td>\n",
       "      <td>0.000000</td>\n",
       "      <td>0.000000</td>\n",
       "      <td>0.000000</td>\n",
       "      <td>0.000000</td>\n",
       "      <td>0.000000</td>\n",
       "      <td>0.000000</td>\n",
       "      <td>0.000000</td>\n",
       "      <td>...</td>\n",
       "      <td>0.000000</td>\n",
       "      <td>0.000000</td>\n",
       "      <td>0.000000</td>\n",
       "      <td>0.000000</td>\n",
       "      <td>0.00000</td>\n",
       "      <td>0.000000</td>\n",
       "      <td>0.000000</td>\n",
       "      <td>0.000000</td>\n",
       "      <td>0.000000</td>\n",
       "      <td>0.000000</td>\n",
       "    </tr>\n",
       "    <tr>\n",
       "      <th>25%</th>\n",
       "      <td>0.000000</td>\n",
       "      <td>0.000000</td>\n",
       "      <td>0.000000</td>\n",
       "      <td>0.000000</td>\n",
       "      <td>0.000000</td>\n",
       "      <td>0.000000</td>\n",
       "      <td>0.000000</td>\n",
       "      <td>0.000000</td>\n",
       "      <td>0.000000</td>\n",
       "      <td>0.000000</td>\n",
       "      <td>...</td>\n",
       "      <td>0.000000</td>\n",
       "      <td>0.000000</td>\n",
       "      <td>0.000000</td>\n",
       "      <td>0.000000</td>\n",
       "      <td>0.00000</td>\n",
       "      <td>0.000000</td>\n",
       "      <td>0.000000</td>\n",
       "      <td>0.000000</td>\n",
       "      <td>0.000000</td>\n",
       "      <td>0.000000</td>\n",
       "    </tr>\n",
       "    <tr>\n",
       "      <th>50%</th>\n",
       "      <td>0.000000</td>\n",
       "      <td>0.000000</td>\n",
       "      <td>0.000000</td>\n",
       "      <td>0.000000</td>\n",
       "      <td>0.000000</td>\n",
       "      <td>0.000000</td>\n",
       "      <td>0.000000</td>\n",
       "      <td>0.000000</td>\n",
       "      <td>0.000000</td>\n",
       "      <td>0.000000</td>\n",
       "      <td>...</td>\n",
       "      <td>0.000000</td>\n",
       "      <td>0.000000</td>\n",
       "      <td>0.000000</td>\n",
       "      <td>0.000000</td>\n",
       "      <td>0.00000</td>\n",
       "      <td>0.000000</td>\n",
       "      <td>0.000000</td>\n",
       "      <td>0.000000</td>\n",
       "      <td>0.000000</td>\n",
       "      <td>0.000000</td>\n",
       "    </tr>\n",
       "    <tr>\n",
       "      <th>75%</th>\n",
       "      <td>0.000000</td>\n",
       "      <td>0.000000</td>\n",
       "      <td>0.000000</td>\n",
       "      <td>0.000000</td>\n",
       "      <td>0.000000</td>\n",
       "      <td>0.000000</td>\n",
       "      <td>0.000000</td>\n",
       "      <td>0.000000</td>\n",
       "      <td>0.000000</td>\n",
       "      <td>0.000000</td>\n",
       "      <td>...</td>\n",
       "      <td>0.000000</td>\n",
       "      <td>0.000000</td>\n",
       "      <td>0.000000</td>\n",
       "      <td>0.000000</td>\n",
       "      <td>0.00000</td>\n",
       "      <td>0.000000</td>\n",
       "      <td>0.000000</td>\n",
       "      <td>0.000000</td>\n",
       "      <td>0.000000</td>\n",
       "      <td>0.000000</td>\n",
       "    </tr>\n",
       "    <tr>\n",
       "      <th>max</th>\n",
       "      <td>2.000000</td>\n",
       "      <td>3.000000</td>\n",
       "      <td>1.000000</td>\n",
       "      <td>2.000000</td>\n",
       "      <td>2.000000</td>\n",
       "      <td>4.000000</td>\n",
       "      <td>6.000000</td>\n",
       "      <td>1.000000</td>\n",
       "      <td>1.000000</td>\n",
       "      <td>1.000000</td>\n",
       "      <td>...</td>\n",
       "      <td>14.000000</td>\n",
       "      <td>3.000000</td>\n",
       "      <td>10.000000</td>\n",
       "      <td>3.000000</td>\n",
       "      <td>2.00000</td>\n",
       "      <td>1.000000</td>\n",
       "      <td>1.000000</td>\n",
       "      <td>20.000000</td>\n",
       "      <td>3.000000</td>\n",
       "      <td>1.000000</td>\n",
       "    </tr>\n",
       "  </tbody>\n",
       "</table>\n",
       "<p>8 rows × 4445 columns</p>\n",
       "</div>"
      ],
      "text/plain": [
       "              aah        aaha     abducts        able    abnormal       about  \\\n",
       "count  286.000000  286.000000  286.000000  286.000000  286.000000  286.000000   \n",
       "mean     0.006993    0.010490    0.003497    0.006993    0.006993    0.118881   \n",
       "std      0.118262    0.177394    0.059131    0.118262    0.118262    0.450956   \n",
       "min      0.000000    0.000000    0.000000    0.000000    0.000000    0.000000   \n",
       "25%      0.000000    0.000000    0.000000    0.000000    0.000000    0.000000   \n",
       "50%      0.000000    0.000000    0.000000    0.000000    0.000000    0.000000   \n",
       "75%      0.000000    0.000000    0.000000    0.000000    0.000000    0.000000   \n",
       "max      2.000000    3.000000    1.000000    2.000000    2.000000    4.000000   \n",
       "\n",
       "            above    absolute  absolution      absurd  ...       youll  \\\n",
       "count  286.000000  286.000000  286.000000  286.000000  ...  286.000000   \n",
       "mean     0.073427    0.003497    0.003497    0.003497  ...    0.230769   \n",
       "std      0.464373    0.059131    0.059131    0.059131  ...    1.194680   \n",
       "min      0.000000    0.000000    0.000000    0.000000  ...    0.000000   \n",
       "25%      0.000000    0.000000    0.000000    0.000000  ...    0.000000   \n",
       "50%      0.000000    0.000000    0.000000    0.000000  ...    0.000000   \n",
       "75%      0.000000    0.000000    0.000000    0.000000  ...    0.000000   \n",
       "max      6.000000    1.000000    1.000000    1.000000  ...   14.000000   \n",
       "\n",
       "            young       youre       yours   yourself     youself       youth  \\\n",
       "count  286.000000  286.000000  286.000000  286.00000  286.000000  286.000000   \n",
       "mean     0.048951    0.681818    0.027972    0.06993    0.003497    0.006993   \n",
       "std      0.286017    1.630892    0.235277    0.31679    0.059131    0.083477   \n",
       "min      0.000000    0.000000    0.000000    0.00000    0.000000    0.000000   \n",
       "25%      0.000000    0.000000    0.000000    0.00000    0.000000    0.000000   \n",
       "50%      0.000000    0.000000    0.000000    0.00000    0.000000    0.000000   \n",
       "75%      0.000000    0.000000    0.000000    0.00000    0.000000    0.000000   \n",
       "max      3.000000   10.000000    3.000000    2.00000    1.000000    1.000000   \n",
       "\n",
       "            youve        zero       zeros  \n",
       "count  286.000000  286.000000  286.000000  \n",
       "mean     0.202797    0.010490    0.003497  \n",
       "std      1.431767    0.177394    0.059131  \n",
       "min      0.000000    0.000000    0.000000  \n",
       "25%      0.000000    0.000000    0.000000  \n",
       "50%      0.000000    0.000000    0.000000  \n",
       "75%      0.000000    0.000000    0.000000  \n",
       "max     20.000000    3.000000    1.000000  \n",
       "\n",
       "[8 rows x 4445 columns]"
      ]
     },
     "execution_count": 8,
     "metadata": {},
     "output_type": "execute_result"
    }
   ],
   "source": [
    "# take a look at X after preprocessing\n",
    "matrix = preprocessor.fit_transform(X_train)\n",
    "tfdf = pd.DataFrame(matrix.todense(), columns=preprocessor['cv'].get_feature_names())\n",
    "tfdf.describe()"
   ]
  },
  {
   "cell_type": "code",
   "execution_count": 9,
   "id": "dd4d09f7-991e-4e91-8ff3-ba9e06b5adaa",
   "metadata": {
    "tags": []
   },
   "outputs": [
    {
     "data": {
      "text/plain": [
       "{'all', 'and', 'that', 'the', 'you', 'your'}"
      ]
     },
     "execution_count": 9,
     "metadata": {},
     "output_type": "execute_result"
    }
   ],
   "source": [
    "# print out the stop words\n",
    "preprocessor['cv'].stop_words_"
   ]
  },
  {
   "cell_type": "markdown",
   "id": "eaf0b5b7-977b-4d5e-860f-fa23bc1a424a",
   "metadata": {},
   "source": [
    "#### Create Classifier"
   ]
  },
  {
   "cell_type": "code",
   "execution_count": 12,
   "id": "3aeb485d-17bd-4ca6-96c2-0336e8232940",
   "metadata": {},
   "outputs": [],
   "source": [
    "lr = Pipeline([\n",
    "    ('preprocessor', preprocessor),\n",
    "    ('m_lr', LogisticRegression())    \n",
    "])"
   ]
  },
  {
   "cell_type": "code",
   "execution_count": 13,
   "id": "a52f47be-5382-4a85-9372-e3fb727a4143",
   "metadata": {},
   "outputs": [
    {
     "data": {
      "text/html": [
       "<style>#sk-container-id-1 {color: black;background-color: white;}#sk-container-id-1 pre{padding: 0;}#sk-container-id-1 div.sk-toggleable {background-color: white;}#sk-container-id-1 label.sk-toggleable__label {cursor: pointer;display: block;width: 100%;margin-bottom: 0;padding: 0.3em;box-sizing: border-box;text-align: center;}#sk-container-id-1 label.sk-toggleable__label-arrow:before {content: \"▸\";float: left;margin-right: 0.25em;color: #696969;}#sk-container-id-1 label.sk-toggleable__label-arrow:hover:before {color: black;}#sk-container-id-1 div.sk-estimator:hover label.sk-toggleable__label-arrow:before {color: black;}#sk-container-id-1 div.sk-toggleable__content {max-height: 0;max-width: 0;overflow: hidden;text-align: left;background-color: #f0f8ff;}#sk-container-id-1 div.sk-toggleable__content pre {margin: 0.2em;color: black;border-radius: 0.25em;background-color: #f0f8ff;}#sk-container-id-1 input.sk-toggleable__control:checked~div.sk-toggleable__content {max-height: 200px;max-width: 100%;overflow: auto;}#sk-container-id-1 input.sk-toggleable__control:checked~label.sk-toggleable__label-arrow:before {content: \"▾\";}#sk-container-id-1 div.sk-estimator input.sk-toggleable__control:checked~label.sk-toggleable__label {background-color: #d4ebff;}#sk-container-id-1 div.sk-label input.sk-toggleable__control:checked~label.sk-toggleable__label {background-color: #d4ebff;}#sk-container-id-1 input.sk-hidden--visually {border: 0;clip: rect(1px 1px 1px 1px);clip: rect(1px, 1px, 1px, 1px);height: 1px;margin: -1px;overflow: hidden;padding: 0;position: absolute;width: 1px;}#sk-container-id-1 div.sk-estimator {font-family: monospace;background-color: #f0f8ff;border: 1px dotted black;border-radius: 0.25em;box-sizing: border-box;margin-bottom: 0.5em;}#sk-container-id-1 div.sk-estimator:hover {background-color: #d4ebff;}#sk-container-id-1 div.sk-parallel-item::after {content: \"\";width: 100%;border-bottom: 1px solid gray;flex-grow: 1;}#sk-container-id-1 div.sk-label:hover label.sk-toggleable__label {background-color: #d4ebff;}#sk-container-id-1 div.sk-serial::before {content: \"\";position: absolute;border-left: 1px solid gray;box-sizing: border-box;top: 0;bottom: 0;left: 50%;z-index: 0;}#sk-container-id-1 div.sk-serial {display: flex;flex-direction: column;align-items: center;background-color: white;padding-right: 0.2em;padding-left: 0.2em;position: relative;}#sk-container-id-1 div.sk-item {position: relative;z-index: 1;}#sk-container-id-1 div.sk-parallel {display: flex;align-items: stretch;justify-content: center;background-color: white;position: relative;}#sk-container-id-1 div.sk-item::before, #sk-container-id-1 div.sk-parallel-item::before {content: \"\";position: absolute;border-left: 1px solid gray;box-sizing: border-box;top: 0;bottom: 0;left: 50%;z-index: -1;}#sk-container-id-1 div.sk-parallel-item {display: flex;flex-direction: column;z-index: 1;position: relative;background-color: white;}#sk-container-id-1 div.sk-parallel-item:first-child::after {align-self: flex-end;width: 50%;}#sk-container-id-1 div.sk-parallel-item:last-child::after {align-self: flex-start;width: 50%;}#sk-container-id-1 div.sk-parallel-item:only-child::after {width: 0;}#sk-container-id-1 div.sk-dashed-wrapped {border: 1px dashed gray;margin: 0 0.4em 0.5em 0.4em;box-sizing: border-box;padding-bottom: 0.4em;background-color: white;}#sk-container-id-1 div.sk-label label {font-family: monospace;font-weight: bold;display: inline-block;line-height: 1.2em;}#sk-container-id-1 div.sk-label-container {text-align: center;}#sk-container-id-1 div.sk-container {/* jupyter's `normalize.less` sets `[hidden] { display: none; }` but bootstrap.min.css set `[hidden] { display: none !important; }` so we also need the `!important` here to be able to override the default hidden behavior on the sphinx rendered scikit-learn.org. See: https://github.com/scikit-learn/scikit-learn/issues/21755 */display: inline-block !important;position: relative;}#sk-container-id-1 div.sk-text-repr-fallback {display: none;}</style><div id=\"sk-container-id-1\" class=\"sk-top-container\"><div class=\"sk-text-repr-fallback\"><pre>Pipeline(steps=[(&#x27;preprocessor&#x27;,\n",
       "                 Pipeline(steps=[(&#x27;cv&#x27;,\n",
       "                                  CountVectorizer(max_df=0.5,\n",
       "                                                  tokenizer=&lt;function my_tokenizer at 0x7fd16988d430&gt;))])),\n",
       "                (&#x27;m_lr&#x27;, LogisticRegression())])</pre><b>In a Jupyter environment, please rerun this cell to show the HTML representation or trust the notebook. <br />On GitHub, the HTML representation is unable to render, please try loading this page with nbviewer.org.</b></div><div class=\"sk-container\" hidden><div class=\"sk-item sk-dashed-wrapped\"><div class=\"sk-label-container\"><div class=\"sk-label sk-toggleable\"><input class=\"sk-toggleable__control sk-hidden--visually\" id=\"sk-estimator-id-1\" type=\"checkbox\" ><label for=\"sk-estimator-id-1\" class=\"sk-toggleable__label sk-toggleable__label-arrow\">Pipeline</label><div class=\"sk-toggleable__content\"><pre>Pipeline(steps=[(&#x27;preprocessor&#x27;,\n",
       "                 Pipeline(steps=[(&#x27;cv&#x27;,\n",
       "                                  CountVectorizer(max_df=0.5,\n",
       "                                                  tokenizer=&lt;function my_tokenizer at 0x7fd16988d430&gt;))])),\n",
       "                (&#x27;m_lr&#x27;, LogisticRegression())])</pre></div></div></div><div class=\"sk-serial\"><div class=\"sk-item\"><div class=\"sk-label-container\"><div class=\"sk-label sk-toggleable\"><input class=\"sk-toggleable__control sk-hidden--visually\" id=\"sk-estimator-id-2\" type=\"checkbox\" ><label for=\"sk-estimator-id-2\" class=\"sk-toggleable__label sk-toggleable__label-arrow\">preprocessor: Pipeline</label><div class=\"sk-toggleable__content\"><pre>Pipeline(steps=[(&#x27;cv&#x27;,\n",
       "                 CountVectorizer(max_df=0.5,\n",
       "                                 tokenizer=&lt;function my_tokenizer at 0x7fd16988d430&gt;))])</pre></div></div></div><div class=\"sk-serial\"><div class=\"sk-item\"><div class=\"sk-estimator sk-toggleable\"><input class=\"sk-toggleable__control sk-hidden--visually\" id=\"sk-estimator-id-3\" type=\"checkbox\" ><label for=\"sk-estimator-id-3\" class=\"sk-toggleable__label sk-toggleable__label-arrow\">CountVectorizer</label><div class=\"sk-toggleable__content\"><pre>CountVectorizer(max_df=0.5, tokenizer=&lt;function my_tokenizer at 0x7fd16988d430&gt;)</pre></div></div></div></div></div><div class=\"sk-item\"><div class=\"sk-estimator sk-toggleable\"><input class=\"sk-toggleable__control sk-hidden--visually\" id=\"sk-estimator-id-4\" type=\"checkbox\" ><label for=\"sk-estimator-id-4\" class=\"sk-toggleable__label sk-toggleable__label-arrow\">LogisticRegression</label><div class=\"sk-toggleable__content\"><pre>LogisticRegression()</pre></div></div></div></div></div></div></div>"
      ],
      "text/plain": [
       "Pipeline(steps=[('preprocessor',\n",
       "                 Pipeline(steps=[('cv',\n",
       "                                  CountVectorizer(max_df=0.5,\n",
       "                                                  tokenizer=<function my_tokenizer at 0x7fd16988d430>))])),\n",
       "                ('m_lr', LogisticRegression())])"
      ]
     },
     "execution_count": 13,
     "metadata": {},
     "output_type": "execute_result"
    }
   ],
   "source": [
    "lr.fit(X_train,y_train)"
   ]
  },
  {
   "cell_type": "code",
   "execution_count": 16,
   "id": "085d998d-5c00-4d19-847b-9adec2eb2e4b",
   "metadata": {},
   "outputs": [
    {
     "name": "stderr",
     "output_type": "stream",
     "text": [
      "/Users/milad/opt/anaconda3/lib/python3.9/site-packages/sklearn/utils/deprecation.py:87: FutureWarning: Function plot_confusion_matrix is deprecated; Function `plot_confusion_matrix` is deprecated in 1.0 and will be removed in 1.2. Use one of the class methods: ConfusionMatrixDisplay.from_predictions or ConfusionMatrixDisplay.from_estimator.\n",
      "  warnings.warn(msg, category=FutureWarning)\n"
     ]
    },
    {
     "data": {
      "image/png": "[encoded data removed]",
      "text/plain": [
       "<Figure size 432x288 with 2 Axes>"
      ]
     },
     "metadata": {
      "needs_background": "light"
     },
     "output_type": "display_data"
    }
   ],
   "source": [
    "# plot confusion matrix\n",
    "metrics.plot_confusion_matrix(lr, X_test, y_test,\n",
    "                              values_format=\".4g\", \n",
    "                              cmap='Blues'\n",
    "                             );"
   ]
  },
  {
   "cell_type": "code",
   "execution_count": null,
   "id": "18ce51a3-f758-4619-a4bb-feee1592d236",
   "metadata": {},
   "outputs": [],
   "source": []
  }
 ],
 "metadata": {
  "kernelspec": {
   "display_name": "Python 3 (ipykernel)",
   "language": "python",
   "name": "python3"
  },
  "language_info": {
   "codemirror_mode": {
    "name": "ipython",
    "version": 3
   },
   "file_extension": ".py",
   "mimetype": "text/x-python",
   "name": "python",
   "nbconvert_exporter": "python",
   "pygments_lexer": "ipython3",
   "version": "3.9.12"
  }
 },
 "nbformat": 4,
 "nbformat_minor": 5
}
