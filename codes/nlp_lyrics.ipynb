{
 "cells": [
  {
   "cell_type": "markdown",
   "id": "1ee623c7-b519-4d4a-ab82-d8ec4212f5ca",
   "metadata": {},
   "source": [
    "### Load Libraries"
   ]
  },
  {
   "cell_type": "code",
   "execution_count": 1,
   "id": "5ca7a8e0-1e7a-4ca8-ad32-548c5cb021d1",
   "metadata": {},
   "outputs": [],
   "source": [
    "import pandas as pd\n",
    "import numpy as np\n",
    "import string\n",
    "import os\n",
    "\n",
    "from sklearn.feature_extraction.text import CountVectorizer, TfidfTransformer\n",
    "from sklearn.model_selection import train_test_split, cross_val_score\n",
    "from sklearn.pipeline import Pipeline\n",
    "from sklearn.linear_model import LogisticRegression\n",
    "from sklearn import metrics\n"
   ]
  },
  {
   "cell_type": "markdown",
   "id": "200a759e-ab33-4b63-b169-956d771f4514",
   "metadata": {},
   "source": [
    "### Load Data"
   ]
  },
  {
   "cell_type": "code",
   "execution_count": 28,
   "id": "2ca02b38-c445-42c0-8f19-0e5bf0fb7c8b",
   "metadata": {},
   "outputs": [],
   "source": [
    "def make_song_df(path):\n",
    "    \"\"\" Build a data frame from all the text files which consist in path \"\"\"\n",
    "    corpus = []\n",
    "    artists_name = []\n",
    "    songs_name = []\n",
    "    folders = [name for name in os.listdir(path) if ( name[0] != '.' )]\n",
    "    for folder in folders:\n",
    "        files = os.listdir(f'{path}/{folder}')\n",
    "        print(f'{len(files)} unique lyrics from {folder} have been added to datafram.')\n",
    "        for file in files:\n",
    "            if file[0] != '.':\n",
    "                continue\n",
    "            if os.path.isfile(f'{path}/{folder}/{file}'):\n",
    "\n",
    "                song_name = os.path.splitext(file)[0]\n",
    "                song_name = song_name.replace('_', ' ')\n",
    "                songs_name.append(song_name)\n",
    "                artists_name.append(folder)\n",
    "                lyric = open(file=f'{path}/{folder}/{file}',mode='r').read()\n",
    "                corpus.append(lyric)\n",
    "            else:\n",
    "                continue\n",
    "    dict = {'artist_name': artists_name, 'song_name': songs_name, 'lyric': corpus} \n",
    "    df = pd.DataFrame(dict)\n",
    "    return df"
   ]
  },
  {
   "cell_type": "code",
   "execution_count": 29,
   "id": "e7560106-451b-4cc5-b217-2c92452d8ef9",
   "metadata": {},
   "outputs": [
    {
     "name": "stdout",
     "output_type": "stream",
     "text": [
      "155 unique lyrics from metallica have been added to datafram.\n",
      "181 unique lyrics from coldplay have been added to datafram.\n",
      "158 unique lyrics from rihanna have been added to datafram.\n",
      "64 unique lyrics from billieeilish have been added to datafram.\n"
     ]
    },
    {
     "data": {
      "text/html": [
       "<div>\n",
       "<style scoped>\n",
       "    .dataframe tbody tr th:only-of-type {\n",
       "        vertical-align: middle;\n",
       "    }\n",
       "\n",
       "    .dataframe tbody tr th {\n",
       "        vertical-align: top;\n",
       "    }\n",
       "\n",
       "    .dataframe thead th {\n",
       "        text-align: right;\n",
       "    }\n",
       "</style>\n",
       "<table border=\"1\" class=\"dataframe\">\n",
       "  <thead>\n",
       "    <tr style=\"text-align: right;\">\n",
       "      <th></th>\n",
       "      <th>artist_name</th>\n",
       "      <th>song_name</th>\n",
       "      <th>lyric</th>\n",
       "    </tr>\n",
       "  </thead>\n",
       "  <tbody>\n",
       "    <tr>\n",
       "      <th>0</th>\n",
       "      <td>metallica</td>\n",
       "      <td>free speech for the dumb</td>\n",
       "      <td>\\n\\nFree speech, free speech for the dumb\\nFre...</td>\n",
       "    </tr>\n",
       "    <tr>\n",
       "      <th>1</th>\n",
       "      <td>metallica</td>\n",
       "      <td>fuel</td>\n",
       "      <td>\\n\\nGimme fuel\\nGimme fire\\nGimme that which I...</td>\n",
       "    </tr>\n",
       "    <tr>\n",
       "      <th>2</th>\n",
       "      <td>metallica</td>\n",
       "      <td>for whom the bell tolls</td>\n",
       "      <td>\\n\\nMake his fight on the hill in the early da...</td>\n",
       "    </tr>\n",
       "    <tr>\n",
       "      <th>3</th>\n",
       "      <td>metallica</td>\n",
       "      <td>hero of the day</td>\n",
       "      <td>\\n\\nMama, they try and break me\\n\\nThe window ...</td>\n",
       "    </tr>\n",
       "    <tr>\n",
       "      <th>4</th>\n",
       "      <td>metallica</td>\n",
       "      <td>frustration</td>\n",
       "      <td>\\n\\nFrustration\\nIn my lexicon of hate\\nI see ...</td>\n",
       "    </tr>\n",
       "    <tr>\n",
       "      <th>...</th>\n",
       "      <td>...</td>\n",
       "      <td>...</td>\n",
       "      <td>...</td>\n",
       "    </tr>\n",
       "    <tr>\n",
       "      <th>553</th>\n",
       "      <td>billieeilish</td>\n",
       "      <td>61818</td>\n",
       "      <td>\\n\\nOur time is up\\nYour eyes are shut\\nI won'...</td>\n",
       "    </tr>\n",
       "    <tr>\n",
       "      <th>554</th>\n",
       "      <td>billieeilish</td>\n",
       "      <td>the 30th</td>\n",
       "      <td>\\n\\nSometimes, you look the same\\nJust like yo...</td>\n",
       "    </tr>\n",
       "    <tr>\n",
       "      <th>555</th>\n",
       "      <td>billieeilish</td>\n",
       "      <td>shes broken</td>\n",
       "      <td>\\n\\nAnother story\\nOf girl meets boy\\nAnd gets...</td>\n",
       "    </tr>\n",
       "    <tr>\n",
       "      <th>556</th>\n",
       "      <td>billieeilish</td>\n",
       "      <td>bored</td>\n",
       "      <td>\\n\\nThe games you played were never fun\\nYou'd...</td>\n",
       "    </tr>\n",
       "    <tr>\n",
       "      <th>557</th>\n",
       "      <td>billieeilish</td>\n",
       "      <td>no time to die</td>\n",
       "      <td>\\n\\nI should've known\\nI'd leave alone\\nJust g...</td>\n",
       "    </tr>\n",
       "  </tbody>\n",
       "</table>\n",
       "<p>558 rows × 3 columns</p>\n",
       "</div>"
      ],
      "text/plain": [
       "      artist_name                 song_name  \\\n",
       "0       metallica  free speech for the dumb   \n",
       "1       metallica                      fuel   \n",
       "2       metallica   for whom the bell tolls   \n",
       "3       metallica           hero of the day   \n",
       "4       metallica               frustration   \n",
       "..            ...                       ...   \n",
       "553  billieeilish                     61818   \n",
       "554  billieeilish                  the 30th   \n",
       "555  billieeilish               shes broken   \n",
       "556  billieeilish                     bored   \n",
       "557  billieeilish            no time to die   \n",
       "\n",
       "                                                 lyric  \n",
       "0    \\n\\nFree speech, free speech for the dumb\\nFre...  \n",
       "1    \\n\\nGimme fuel\\nGimme fire\\nGimme that which I...  \n",
       "2    \\n\\nMake his fight on the hill in the early da...  \n",
       "3    \\n\\nMama, they try and break me\\n\\nThe window ...  \n",
       "4    \\n\\nFrustration\\nIn my lexicon of hate\\nI see ...  \n",
       "..                                                 ...  \n",
       "553  \\n\\nOur time is up\\nYour eyes are shut\\nI won'...  \n",
       "554  \\n\\nSometimes, you look the same\\nJust like yo...  \n",
       "555  \\n\\nAnother story\\nOf girl meets boy\\nAnd gets...  \n",
       "556  \\n\\nThe games you played were never fun\\nYou'd...  \n",
       "557  \\n\\nI should've known\\nI'd leave alone\\nJust g...  \n",
       "\n",
       "[558 rows x 3 columns]"
      ]
     },
     "execution_count": 29,
     "metadata": {},
     "output_type": "execute_result"
    }
   ],
   "source": [
    "# build a dataframe from lyrics files\n",
    "df = make_song_df(path='../data/')\n",
    "df"
   ]
  },
  {
   "cell_type": "markdown",
   "id": "862589d3-2502-4918-ab07-264254e4bcf5",
   "metadata": {},
   "source": [
    "### Exploratory Data Analysis"
   ]
  },
  {
   "cell_type": "code",
   "execution_count": null,
   "id": "178ffaf5-d3da-4f3e-b04c-9d76f8feaf81",
   "metadata": {},
   "outputs": [],
   "source": []
  },
  {
   "cell_type": "markdown",
   "id": "0eedaaf3-1fce-4b6a-ad84-6235e11b708e",
   "metadata": {},
   "source": [
    "### Logistic Regression"
   ]
  },
  {
   "cell_type": "code",
   "execution_count": 4,
   "id": "051ecea2-9e0c-4c89-b5cc-d280dfd7c7a9",
   "metadata": {},
   "outputs": [],
   "source": [
    "# define features and target\n",
    "X = df['lyric']\n",
    "y = df['artist_name']"
   ]
  },
  {
   "cell_type": "code",
   "execution_count": 5,
   "id": "fc32022f-5b92-499d-b53b-a188d987d0bb",
   "metadata": {},
   "outputs": [
    {
     "data": {
      "text/plain": [
       "((446,), (112,))"
      ]
     },
     "execution_count": 5,
     "metadata": {},
     "output_type": "execute_result"
    }
   ],
   "source": [
    "# train-test split\n",
    "X_train, X_test, y_train, y_test = train_test_split(X, y, test_size=0.2, random_state=0)\n",
    "X_train.shape, X_test.shape"
   ]
  },
  {
   "cell_type": "markdown",
   "id": "3a2c075a-ff00-499d-b0df-51204da1ea10",
   "metadata": {},
   "source": [
    "#### Define Preprocessing Pipeline"
   ]
  },
  {
   "cell_type": "code",
   "execution_count": 6,
   "id": "e643e0b7-d66f-4f52-af5e-1d68f5bf7242",
   "metadata": {},
   "outputs": [],
   "source": [
    "# define tekonizer function\n",
    "def my_tokenizer(text):\n",
    "    table = str.maketrans('','',string.punctuation)\n",
    "    # split the text into separate words\n",
    "    text = text.split()\n",
    "    #remove punctuations\n",
    "    text = [word.translate(table) for word in text]\n",
    "    #remove words which are less than two character e.g. 's and a\n",
    "    text = [word for word in text if(len(word)>2)]\n",
    "    #remove words which include of numbers\n",
    "    text = [word for word in text if(word.isalpha())]\n",
    "    return text"
   ]
  },
  {
   "cell_type": "code",
   "execution_count": 7,
   "id": "c8f7b02a-e820-457b-8703-6a6995f254b9",
   "metadata": {},
   "outputs": [],
   "source": [
    "# define pipeline for preprocessing (equivalent with using TfidfVectorizer)\n",
    "preprocessor = Pipeline([\n",
    "    ('cv', CountVectorizer(lowercase=True,max_df=0.50,tokenizer=my_tokenizer)),\n",
    "    #('tf', TfidfTransformer())   \n",
    "])"
   ]
  },
  {
   "cell_type": "code",
   "execution_count": 8,
   "id": "eb3f8aeb-874a-43b4-81c5-2efee784f9f7",
   "metadata": {},
   "outputs": [
    {
     "name": "stderr",
     "output_type": "stream",
     "text": [
      "/Users/milad/opt/anaconda3/lib/python3.9/site-packages/sklearn/utils/deprecation.py:87: FutureWarning: Function get_feature_names is deprecated; get_feature_names is deprecated in 1.0 and will be removed in 1.2. Please use get_feature_names_out instead.\n",
      "  warnings.warn(msg, category=FutureWarning)\n"
     ]
    },
    {
     "data": {
      "text/html": [
       "<div>\n",
       "<style scoped>\n",
       "    .dataframe tbody tr th:only-of-type {\n",
       "        vertical-align: middle;\n",
       "    }\n",
       "\n",
       "    .dataframe tbody tr th {\n",
       "        vertical-align: top;\n",
       "    }\n",
       "\n",
       "    .dataframe thead th {\n",
       "        text-align: right;\n",
       "    }\n",
       "</style>\n",
       "<table border=\"1\" class=\"dataframe\">\n",
       "  <thead>\n",
       "    <tr style=\"text-align: right;\">\n",
       "      <th></th>\n",
       "      <th>aaaayy</th>\n",
       "      <th>abducts</th>\n",
       "      <th>abel</th>\n",
       "      <th>abide</th>\n",
       "      <th>able</th>\n",
       "      <th>abnormal</th>\n",
       "      <th>about</th>\n",
       "      <th>above</th>\n",
       "      <th>absolute</th>\n",
       "      <th>absolutely</th>\n",
       "      <th>...</th>\n",
       "      <th>yuh</th>\n",
       "      <th>yum</th>\n",
       "      <th>yummy</th>\n",
       "      <th>yup</th>\n",
       "      <th>yyou</th>\n",
       "      <th>zero</th>\n",
       "      <th>zeros</th>\n",
       "      <th>ziploc</th>\n",
       "      <th>zonday</th>\n",
       "      <th>zone</th>\n",
       "    </tr>\n",
       "  </thead>\n",
       "  <tbody>\n",
       "    <tr>\n",
       "      <th>count</th>\n",
       "      <td>446.000000</td>\n",
       "      <td>446.000000</td>\n",
       "      <td>446.000000</td>\n",
       "      <td>446.000000</td>\n",
       "      <td>446.000000</td>\n",
       "      <td>446.000000</td>\n",
       "      <td>446.000000</td>\n",
       "      <td>446.000000</td>\n",
       "      <td>446.000000</td>\n",
       "      <td>446.000000</td>\n",
       "      <td>...</td>\n",
       "      <td>446.000000</td>\n",
       "      <td>446.000000</td>\n",
       "      <td>446.000000</td>\n",
       "      <td>446.000000</td>\n",
       "      <td>446.000000</td>\n",
       "      <td>446.000000</td>\n",
       "      <td>446.000000</td>\n",
       "      <td>446.000000</td>\n",
       "      <td>446.000000</td>\n",
       "      <td>446.000000</td>\n",
       "    </tr>\n",
       "    <tr>\n",
       "      <th>mean</th>\n",
       "      <td>0.002242</td>\n",
       "      <td>0.002242</td>\n",
       "      <td>0.002242</td>\n",
       "      <td>0.004484</td>\n",
       "      <td>0.004484</td>\n",
       "      <td>0.004484</td>\n",
       "      <td>0.316143</td>\n",
       "      <td>0.031390</td>\n",
       "      <td>0.002242</td>\n",
       "      <td>0.006726</td>\n",
       "      <td>...</td>\n",
       "      <td>0.013453</td>\n",
       "      <td>0.002242</td>\n",
       "      <td>0.002242</td>\n",
       "      <td>0.013453</td>\n",
       "      <td>0.006726</td>\n",
       "      <td>0.011211</td>\n",
       "      <td>0.002242</td>\n",
       "      <td>0.002242</td>\n",
       "      <td>0.002242</td>\n",
       "      <td>0.006726</td>\n",
       "    </tr>\n",
       "    <tr>\n",
       "      <th>std</th>\n",
       "      <td>0.047351</td>\n",
       "      <td>0.047351</td>\n",
       "      <td>0.047351</td>\n",
       "      <td>0.094703</td>\n",
       "      <td>0.066890</td>\n",
       "      <td>0.094703</td>\n",
       "      <td>1.212689</td>\n",
       "      <td>0.239665</td>\n",
       "      <td>0.047351</td>\n",
       "      <td>0.105786</td>\n",
       "      <td>...</td>\n",
       "      <td>0.241341</td>\n",
       "      <td>0.047351</td>\n",
       "      <td>0.047351</td>\n",
       "      <td>0.211571</td>\n",
       "      <td>0.142054</td>\n",
       "      <td>0.156822</td>\n",
       "      <td>0.047351</td>\n",
       "      <td>0.047351</td>\n",
       "      <td>0.047351</td>\n",
       "      <td>0.142054</td>\n",
       "    </tr>\n",
       "    <tr>\n",
       "      <th>min</th>\n",
       "      <td>0.000000</td>\n",
       "      <td>0.000000</td>\n",
       "      <td>0.000000</td>\n",
       "      <td>0.000000</td>\n",
       "      <td>0.000000</td>\n",
       "      <td>0.000000</td>\n",
       "      <td>0.000000</td>\n",
       "      <td>0.000000</td>\n",
       "      <td>0.000000</td>\n",
       "      <td>0.000000</td>\n",
       "      <td>...</td>\n",
       "      <td>0.000000</td>\n",
       "      <td>0.000000</td>\n",
       "      <td>0.000000</td>\n",
       "      <td>0.000000</td>\n",
       "      <td>0.000000</td>\n",
       "      <td>0.000000</td>\n",
       "      <td>0.000000</td>\n",
       "      <td>0.000000</td>\n",
       "      <td>0.000000</td>\n",
       "      <td>0.000000</td>\n",
       "    </tr>\n",
       "    <tr>\n",
       "      <th>25%</th>\n",
       "      <td>0.000000</td>\n",
       "      <td>0.000000</td>\n",
       "      <td>0.000000</td>\n",
       "      <td>0.000000</td>\n",
       "      <td>0.000000</td>\n",
       "      <td>0.000000</td>\n",
       "      <td>0.000000</td>\n",
       "      <td>0.000000</td>\n",
       "      <td>0.000000</td>\n",
       "      <td>0.000000</td>\n",
       "      <td>...</td>\n",
       "      <td>0.000000</td>\n",
       "      <td>0.000000</td>\n",
       "      <td>0.000000</td>\n",
       "      <td>0.000000</td>\n",
       "      <td>0.000000</td>\n",
       "      <td>0.000000</td>\n",
       "      <td>0.000000</td>\n",
       "      <td>0.000000</td>\n",
       "      <td>0.000000</td>\n",
       "      <td>0.000000</td>\n",
       "    </tr>\n",
       "    <tr>\n",
       "      <th>50%</th>\n",
       "      <td>0.000000</td>\n",
       "      <td>0.000000</td>\n",
       "      <td>0.000000</td>\n",
       "      <td>0.000000</td>\n",
       "      <td>0.000000</td>\n",
       "      <td>0.000000</td>\n",
       "      <td>0.000000</td>\n",
       "      <td>0.000000</td>\n",
       "      <td>0.000000</td>\n",
       "      <td>0.000000</td>\n",
       "      <td>...</td>\n",
       "      <td>0.000000</td>\n",
       "      <td>0.000000</td>\n",
       "      <td>0.000000</td>\n",
       "      <td>0.000000</td>\n",
       "      <td>0.000000</td>\n",
       "      <td>0.000000</td>\n",
       "      <td>0.000000</td>\n",
       "      <td>0.000000</td>\n",
       "      <td>0.000000</td>\n",
       "      <td>0.000000</td>\n",
       "    </tr>\n",
       "    <tr>\n",
       "      <th>75%</th>\n",
       "      <td>0.000000</td>\n",
       "      <td>0.000000</td>\n",
       "      <td>0.000000</td>\n",
       "      <td>0.000000</td>\n",
       "      <td>0.000000</td>\n",
       "      <td>0.000000</td>\n",
       "      <td>0.000000</td>\n",
       "      <td>0.000000</td>\n",
       "      <td>0.000000</td>\n",
       "      <td>0.000000</td>\n",
       "      <td>...</td>\n",
       "      <td>0.000000</td>\n",
       "      <td>0.000000</td>\n",
       "      <td>0.000000</td>\n",
       "      <td>0.000000</td>\n",
       "      <td>0.000000</td>\n",
       "      <td>0.000000</td>\n",
       "      <td>0.000000</td>\n",
       "      <td>0.000000</td>\n",
       "      <td>0.000000</td>\n",
       "      <td>0.000000</td>\n",
       "    </tr>\n",
       "    <tr>\n",
       "      <th>max</th>\n",
       "      <td>1.000000</td>\n",
       "      <td>1.000000</td>\n",
       "      <td>1.000000</td>\n",
       "      <td>2.000000</td>\n",
       "      <td>1.000000</td>\n",
       "      <td>2.000000</td>\n",
       "      <td>14.000000</td>\n",
       "      <td>3.000000</td>\n",
       "      <td>1.000000</td>\n",
       "      <td>2.000000</td>\n",
       "      <td>...</td>\n",
       "      <td>5.000000</td>\n",
       "      <td>1.000000</td>\n",
       "      <td>1.000000</td>\n",
       "      <td>4.000000</td>\n",
       "      <td>3.000000</td>\n",
       "      <td>3.000000</td>\n",
       "      <td>1.000000</td>\n",
       "      <td>1.000000</td>\n",
       "      <td>1.000000</td>\n",
       "      <td>3.000000</td>\n",
       "    </tr>\n",
       "  </tbody>\n",
       "</table>\n",
       "<p>8 rows × 5747 columns</p>\n",
       "</div>"
      ],
      "text/plain": [
       "           aaaayy     abducts        abel       abide        able    abnormal  \\\n",
       "count  446.000000  446.000000  446.000000  446.000000  446.000000  446.000000   \n",
       "mean     0.002242    0.002242    0.002242    0.004484    0.004484    0.004484   \n",
       "std      0.047351    0.047351    0.047351    0.094703    0.066890    0.094703   \n",
       "min      0.000000    0.000000    0.000000    0.000000    0.000000    0.000000   \n",
       "25%      0.000000    0.000000    0.000000    0.000000    0.000000    0.000000   \n",
       "50%      0.000000    0.000000    0.000000    0.000000    0.000000    0.000000   \n",
       "75%      0.000000    0.000000    0.000000    0.000000    0.000000    0.000000   \n",
       "max      1.000000    1.000000    1.000000    2.000000    1.000000    2.000000   \n",
       "\n",
       "            about       above    absolute  absolutely  ...         yuh  \\\n",
       "count  446.000000  446.000000  446.000000  446.000000  ...  446.000000   \n",
       "mean     0.316143    0.031390    0.002242    0.006726  ...    0.013453   \n",
       "std      1.212689    0.239665    0.047351    0.105786  ...    0.241341   \n",
       "min      0.000000    0.000000    0.000000    0.000000  ...    0.000000   \n",
       "25%      0.000000    0.000000    0.000000    0.000000  ...    0.000000   \n",
       "50%      0.000000    0.000000    0.000000    0.000000  ...    0.000000   \n",
       "75%      0.000000    0.000000    0.000000    0.000000  ...    0.000000   \n",
       "max     14.000000    3.000000    1.000000    2.000000  ...    5.000000   \n",
       "\n",
       "              yum       yummy         yup        yyou        zero       zeros  \\\n",
       "count  446.000000  446.000000  446.000000  446.000000  446.000000  446.000000   \n",
       "mean     0.002242    0.002242    0.013453    0.006726    0.011211    0.002242   \n",
       "std      0.047351    0.047351    0.211571    0.142054    0.156822    0.047351   \n",
       "min      0.000000    0.000000    0.000000    0.000000    0.000000    0.000000   \n",
       "25%      0.000000    0.000000    0.000000    0.000000    0.000000    0.000000   \n",
       "50%      0.000000    0.000000    0.000000    0.000000    0.000000    0.000000   \n",
       "75%      0.000000    0.000000    0.000000    0.000000    0.000000    0.000000   \n",
       "max      1.000000    1.000000    4.000000    3.000000    3.000000    1.000000   \n",
       "\n",
       "           ziploc      zonday        zone  \n",
       "count  446.000000  446.000000  446.000000  \n",
       "mean     0.002242    0.002242    0.006726  \n",
       "std      0.047351    0.047351    0.142054  \n",
       "min      0.000000    0.000000    0.000000  \n",
       "25%      0.000000    0.000000    0.000000  \n",
       "50%      0.000000    0.000000    0.000000  \n",
       "75%      0.000000    0.000000    0.000000  \n",
       "max      1.000000    1.000000    3.000000  \n",
       "\n",
       "[8 rows x 5747 columns]"
      ]
     },
     "execution_count": 8,
     "metadata": {},
     "output_type": "execute_result"
    }
   ],
   "source": [
    "# take a look at X after preprocessing\n",
    "matrix = preprocessor.fit_transform(X_train)\n",
    "tfdf = pd.DataFrame(matrix.todense(), columns=preprocessor['cv'].get_feature_names())\n",
    "tfdf.describe()"
   ]
  },
  {
   "cell_type": "code",
   "execution_count": 9,
   "id": "dd4d09f7-991e-4e91-8ff3-ba9e06b5adaa",
   "metadata": {
    "tags": []
   },
   "outputs": [
    {
     "data": {
      "text/plain": [
       "{'all', 'and', 'but', 'for', 'just', 'that', 'the', 'you', 'your'}"
      ]
     },
     "execution_count": 9,
     "metadata": {},
     "output_type": "execute_result"
    }
   ],
   "source": [
    "# print out the stop words\n",
    "preprocessor['cv'].stop_words_"
   ]
  },
  {
   "cell_type": "markdown",
   "id": "eaf0b5b7-977b-4d5e-860f-fa23bc1a424a",
   "metadata": {},
   "source": [
    "#### Create Classifier"
   ]
  },
  {
   "cell_type": "code",
   "execution_count": 10,
   "id": "3aeb485d-17bd-4ca6-96c2-0336e8232940",
   "metadata": {},
   "outputs": [],
   "source": [
    "lr = Pipeline([\n",
    "    ('preprocessor', preprocessor),\n",
    "    ('m_lr', LogisticRegression(max_iter=1000))    \n",
    "])"
   ]
  },
  {
   "cell_type": "code",
   "execution_count": 11,
   "id": "a52f47be-5382-4a85-9372-e3fb727a4143",
   "metadata": {},
   "outputs": [
    {
     "data": {
      "text/html": [
       "<style>#sk-container-id-1 {color: black;background-color: white;}#sk-container-id-1 pre{padding: 0;}#sk-container-id-1 div.sk-toggleable {background-color: white;}#sk-container-id-1 label.sk-toggleable__label {cursor: pointer;display: block;width: 100%;margin-bottom: 0;padding: 0.3em;box-sizing: border-box;text-align: center;}#sk-container-id-1 label.sk-toggleable__label-arrow:before {content: \"▸\";float: left;margin-right: 0.25em;color: #696969;}#sk-container-id-1 label.sk-toggleable__label-arrow:hover:before {color: black;}#sk-container-id-1 div.sk-estimator:hover label.sk-toggleable__label-arrow:before {color: black;}#sk-container-id-1 div.sk-toggleable__content {max-height: 0;max-width: 0;overflow: hidden;text-align: left;background-color: #f0f8ff;}#sk-container-id-1 div.sk-toggleable__content pre {margin: 0.2em;color: black;border-radius: 0.25em;background-color: #f0f8ff;}#sk-container-id-1 input.sk-toggleable__control:checked~div.sk-toggleable__content {max-height: 200px;max-width: 100%;overflow: auto;}#sk-container-id-1 input.sk-toggleable__control:checked~label.sk-toggleable__label-arrow:before {content: \"▾\";}#sk-container-id-1 div.sk-estimator input.sk-toggleable__control:checked~label.sk-toggleable__label {background-color: #d4ebff;}#sk-container-id-1 div.sk-label input.sk-toggleable__control:checked~label.sk-toggleable__label {background-color: #d4ebff;}#sk-container-id-1 input.sk-hidden--visually {border: 0;clip: rect(1px 1px 1px 1px);clip: rect(1px, 1px, 1px, 1px);height: 1px;margin: -1px;overflow: hidden;padding: 0;position: absolute;width: 1px;}#sk-container-id-1 div.sk-estimator {font-family: monospace;background-color: #f0f8ff;border: 1px dotted black;border-radius: 0.25em;box-sizing: border-box;margin-bottom: 0.5em;}#sk-container-id-1 div.sk-estimator:hover {background-color: #d4ebff;}#sk-container-id-1 div.sk-parallel-item::after {content: \"\";width: 100%;border-bottom: 1px solid gray;flex-grow: 1;}#sk-container-id-1 div.sk-label:hover label.sk-toggleable__label {background-color: #d4ebff;}#sk-container-id-1 div.sk-serial::before {content: \"\";position: absolute;border-left: 1px solid gray;box-sizing: border-box;top: 0;bottom: 0;left: 50%;z-index: 0;}#sk-container-id-1 div.sk-serial {display: flex;flex-direction: column;align-items: center;background-color: white;padding-right: 0.2em;padding-left: 0.2em;position: relative;}#sk-container-id-1 div.sk-item {position: relative;z-index: 1;}#sk-container-id-1 div.sk-parallel {display: flex;align-items: stretch;justify-content: center;background-color: white;position: relative;}#sk-container-id-1 div.sk-item::before, #sk-container-id-1 div.sk-parallel-item::before {content: \"\";position: absolute;border-left: 1px solid gray;box-sizing: border-box;top: 0;bottom: 0;left: 50%;z-index: -1;}#sk-container-id-1 div.sk-parallel-item {display: flex;flex-direction: column;z-index: 1;position: relative;background-color: white;}#sk-container-id-1 div.sk-parallel-item:first-child::after {align-self: flex-end;width: 50%;}#sk-container-id-1 div.sk-parallel-item:last-child::after {align-self: flex-start;width: 50%;}#sk-container-id-1 div.sk-parallel-item:only-child::after {width: 0;}#sk-container-id-1 div.sk-dashed-wrapped {border: 1px dashed gray;margin: 0 0.4em 0.5em 0.4em;box-sizing: border-box;padding-bottom: 0.4em;background-color: white;}#sk-container-id-1 div.sk-label label {font-family: monospace;font-weight: bold;display: inline-block;line-height: 1.2em;}#sk-container-id-1 div.sk-label-container {text-align: center;}#sk-container-id-1 div.sk-container {/* jupyter's `normalize.less` sets `[hidden] { display: none; }` but bootstrap.min.css set `[hidden] { display: none !important; }` so we also need the `!important` here to be able to override the default hidden behavior on the sphinx rendered scikit-learn.org. See: https://github.com/scikit-learn/scikit-learn/issues/21755 */display: inline-block !important;position: relative;}#sk-container-id-1 div.sk-text-repr-fallback {display: none;}</style><div id=\"sk-container-id-1\" class=\"sk-top-container\"><div class=\"sk-text-repr-fallback\"><pre>Pipeline(steps=[(&#x27;preprocessor&#x27;,\n",
       "                 Pipeline(steps=[(&#x27;cv&#x27;,\n",
       "                                  CountVectorizer(max_df=0.5,\n",
       "                                                  tokenizer=&lt;function my_tokenizer at 0x7f9d2094b5e0&gt;))])),\n",
       "                (&#x27;m_lr&#x27;, LogisticRegression(max_iter=1000))])</pre><b>In a Jupyter environment, please rerun this cell to show the HTML representation or trust the notebook. <br />On GitHub, the HTML representation is unable to render, please try loading this page with nbviewer.org.</b></div><div class=\"sk-container\" hidden><div class=\"sk-item sk-dashed-wrapped\"><div class=\"sk-label-container\"><div class=\"sk-label sk-toggleable\"><input class=\"sk-toggleable__control sk-hidden--visually\" id=\"sk-estimator-id-1\" type=\"checkbox\" ><label for=\"sk-estimator-id-1\" class=\"sk-toggleable__label sk-toggleable__label-arrow\">Pipeline</label><div class=\"sk-toggleable__content\"><pre>Pipeline(steps=[(&#x27;preprocessor&#x27;,\n",
       "                 Pipeline(steps=[(&#x27;cv&#x27;,\n",
       "                                  CountVectorizer(max_df=0.5,\n",
       "                                                  tokenizer=&lt;function my_tokenizer at 0x7f9d2094b5e0&gt;))])),\n",
       "                (&#x27;m_lr&#x27;, LogisticRegression(max_iter=1000))])</pre></div></div></div><div class=\"sk-serial\"><div class=\"sk-item\"><div class=\"sk-label-container\"><div class=\"sk-label sk-toggleable\"><input class=\"sk-toggleable__control sk-hidden--visually\" id=\"sk-estimator-id-2\" type=\"checkbox\" ><label for=\"sk-estimator-id-2\" class=\"sk-toggleable__label sk-toggleable__label-arrow\">preprocessor: Pipeline</label><div class=\"sk-toggleable__content\"><pre>Pipeline(steps=[(&#x27;cv&#x27;,\n",
       "                 CountVectorizer(max_df=0.5,\n",
       "                                 tokenizer=&lt;function my_tokenizer at 0x7f9d2094b5e0&gt;))])</pre></div></div></div><div class=\"sk-serial\"><div class=\"sk-item\"><div class=\"sk-estimator sk-toggleable\"><input class=\"sk-toggleable__control sk-hidden--visually\" id=\"sk-estimator-id-3\" type=\"checkbox\" ><label for=\"sk-estimator-id-3\" class=\"sk-toggleable__label sk-toggleable__label-arrow\">CountVectorizer</label><div class=\"sk-toggleable__content\"><pre>CountVectorizer(max_df=0.5, tokenizer=&lt;function my_tokenizer at 0x7f9d2094b5e0&gt;)</pre></div></div></div></div></div><div class=\"sk-item\"><div class=\"sk-estimator sk-toggleable\"><input class=\"sk-toggleable__control sk-hidden--visually\" id=\"sk-estimator-id-4\" type=\"checkbox\" ><label for=\"sk-estimator-id-4\" class=\"sk-toggleable__label sk-toggleable__label-arrow\">LogisticRegression</label><div class=\"sk-toggleable__content\"><pre>LogisticRegression(max_iter=1000)</pre></div></div></div></div></div></div></div>"
      ],
      "text/plain": [
       "Pipeline(steps=[('preprocessor',\n",
       "                 Pipeline(steps=[('cv',\n",
       "                                  CountVectorizer(max_df=0.5,\n",
       "                                                  tokenizer=<function my_tokenizer at 0x7f9d2094b5e0>))])),\n",
       "                ('m_lr', LogisticRegression(max_iter=1000))])"
      ]
     },
     "execution_count": 11,
     "metadata": {},
     "output_type": "execute_result"
    }
   ],
   "source": [
    "lr.fit(X_train,y_train)"
   ]
  },
  {
   "cell_type": "markdown",
   "id": "bd31cf40-385f-4fbd-b0ed-97591bb5b3fd",
   "metadata": {},
   "source": [
    "#### Evaluate Classifier"
   ]
  },
  {
   "cell_type": "code",
   "execution_count": 12,
   "id": "085d998d-5c00-4d19-847b-9adec2eb2e4b",
   "metadata": {},
   "outputs": [
    {
     "name": "stderr",
     "output_type": "stream",
     "text": [
      "/Users/milad/opt/anaconda3/lib/python3.9/site-packages/sklearn/utils/deprecation.py:87: FutureWarning: Function plot_confusion_matrix is deprecated; Function `plot_confusion_matrix` is deprecated in 1.0 and will be removed in 1.2. Use one of the class methods: ConfusionMatrixDisplay.from_predictions or ConfusionMatrixDisplay.from_estimator.\n",
      "  warnings.warn(msg, category=FutureWarning)\n"
     ]
    },
    {
     "data": {
      "image/png": "[encoded data removed]",
      "text/plain": [
       "<Figure size 432x288 with 2 Axes>"
      ]
     },
     "metadata": {
      "needs_background": "light"
     },
     "output_type": "display_data"
    }
   ],
   "source": [
    "# plot confusion matrix\n",
    "metrics.plot_confusion_matrix(lr, X_test, y_test,\n",
    "                              values_format=\".4g\", \n",
    "                              cmap='Blues'\n",
    "                             );"
   ]
  },
  {
   "cell_type": "code",
   "execution_count": 13,
   "id": "3bff1847-8be1-4c6b-99a2-e072decc58fd",
   "metadata": {},
   "outputs": [],
   "source": [
    "def print_evaluation_metrics(model,X_train,y_train,X_test,y_test):\n",
    "    \n",
    "    \"\"\" Print out some evaluation metrics \"\"\"\n",
    "    \n",
    "    print(f'train score: {round(model.score(X_train,y_train),2)}')\n",
    "    print(f'test score: {round(model.score(X_test,y_test),2)}')\n",
    "    "
   ]
  },
  {
   "cell_type": "code",
   "execution_count": 14,
   "id": "dd6e9ba4-d899-487f-b925-4cbf5c894d78",
   "metadata": {},
   "outputs": [
    {
     "name": "stdout",
     "output_type": "stream",
     "text": [
      "train score: 1.0\n",
      "test score: 0.68\n"
     ]
    }
   ],
   "source": [
    "print_evaluation_metrics(lr,X_train,y_train,X_test,y_test)"
   ]
  },
  {
   "cell_type": "code",
   "execution_count": 15,
   "id": "b49e67ec-142d-4eae-8ef0-e781d5c51ef3",
   "metadata": {},
   "outputs": [],
   "source": [
    "# save evaluation metrics using cross validation\n",
    "def save_evaluation_metrics(classifier,classifier_name, summary, X, y):\n",
    "    \n",
    "    AUC = round(cross_val_score(classifier, X, y, cv = 2, scoring='roc_auc_ovr_weighted').mean(),2)\n",
    "    accuracy = round(cross_val_score(classifier, X, y, cv = 2, scoring='accuracy').mean(),2)\n",
    "    precision = round(cross_val_score(classifier, X, y, cv = 2, scoring='precision_weighted').mean(),2)\n",
    "    recall = round(cross_val_score(classifier, X, y, cv = 2, scoring='recall_weighted').mean(),2)\n",
    "    f1 = round(cross_val_score(classifier, X, y, cv = 2, scoring='f1_weighted').mean(),2)\n",
    "    \n",
    "    summary['Classifier Name'].append(classifier_name)\n",
    "    summary['AUC'].append(AUC)\n",
    "    summary['Accuracy'].append(accuracy)\n",
    "    summary['Precision'].append(precision)\n",
    "    summary['Recall'].append(recall)\n",
    "    summary['F1'].append(f1)\n",
    "    \n",
    "    \n",
    "    return summary"
   ]
  },
  {
   "cell_type": "code",
   "execution_count": 16,
   "id": "a7c53493-53c9-4829-b7ca-2bfa7e63a30e",
   "metadata": {
    "tags": []
   },
   "outputs": [
    {
     "data": {
      "text/plain": [
       "{'Classifier Name': ['Logistic Regression'],\n",
       " 'AUC': [0.89],\n",
       " 'Accuracy': [0.71],\n",
       " 'Precision': [0.73],\n",
       " 'Recall': [0.71],\n",
       " 'F1': [0.71]}"
      ]
     },
     "execution_count": 16,
     "metadata": {},
     "output_type": "execute_result"
    }
   ],
   "source": [
    "summary = {'Classifier Name':[],'AUC':[],'Accuracy':[]\n",
    "           ,'Precision':[],'Recall':[],'F1':[]}\n",
    "\n",
    "summary = save_evaluation_metrics(lr,'Logistic Regression',summary,X,y)\n",
    "summary"
   ]
  },
  {
   "cell_type": "code",
   "execution_count": null,
   "id": "06fdf348-5de6-43aa-be43-e9dfd0c4439a",
   "metadata": {},
   "outputs": [],
   "source": []
  }
 ],
 "metadata": {
  "kernelspec": {
   "display_name": "Python 3 (ipykernel)",
   "language": "python",
   "name": "python3"
  },
  "language_info": {
   "codemirror_mode": {
    "name": "ipython",
    "version": 3
   },
   "file_extension": ".py",
   "mimetype": "text/x-python",
   "name": "python",
   "nbconvert_exporter": "python",
   "pygments_lexer": "ipython3",
   "version": "3.9.12"
  }
 },
 "nbformat": 4,
 "nbformat_minor": 5
}
